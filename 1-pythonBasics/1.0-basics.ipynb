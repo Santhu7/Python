{
 "cells": [
  {
   "cell_type": "code",
   "execution_count": null,
   "metadata": {},
   "outputs": [],
   "source": [
    "##Syntax -- Code structure\n",
    "#Semantics -- Predection of how our code works\n",
    "\n",
    "'''\n",
    "Multi line comments\n",
    "'''"
   ]
  },
  {
   "cell_type": "code",
   "execution_count": null,
   "metadata": {},
   "outputs": [],
   "source": [
    "#Basic Syntax rules\n",
    "\n",
    "\n",
    "##case sensitivity\n",
    "#Python is Case Sensitive\n",
    "\n",
    "a=\"Santhu\"\n",
    "A=\"Santhosh\"\n",
    "\n",
    "print(\"Case sensitive Example\")\n",
    "print('a : ',a)\n",
    "print('A : ',A)\n"
   ]
  },
  {
   "cell_type": "code",
   "execution_count": 2,
   "metadata": {},
   "outputs": [],
   "source": [
    "##Indentation -- for grouping of statements\n",
    "# Four Spaces"
   ]
  },
  {
   "cell_type": "code",
   "execution_count": null,
   "metadata": {},
   "outputs": [],
   "source": [
    "#Line continuation -- we can use backslash and continue the operation\n",
    "sum_=1+2+3+4+5+6+\\\n",
    "2+4+3\n",
    "print(sum_)"
   ]
  },
  {
   "cell_type": "code",
   "execution_count": null,
   "metadata": {},
   "outputs": [],
   "source": [
    "#multiple statement on single line\n",
    "a=3;b=4;c=a+b\n",
    "print(c)"
   ]
  },
  {
   "cell_type": "code",
   "execution_count": null,
   "metadata": {},
   "outputs": [],
   "source": [
    "#Variable assignment\n",
    "age=29 #no need of defining the data type of the variable\n",
    "\n",
    "##type Inferance\n",
    "print(type(age))\n",
    "\n",
    "age=\"defined\"\n",
    "print(type(age))"
   ]
  }
 ],
 "metadata": {
  "kernelspec": {
   "display_name": "Python 3",
   "language": "python",
   "name": "python3"
  },
  "language_info": {
   "codemirror_mode": {
    "name": "ipython",
    "version": 3
   },
   "file_extension": ".py",
   "mimetype": "text/x-python",
   "name": "python",
   "nbconvert_exporter": "python",
   "pygments_lexer": "ipython3",
   "version": "3.12.4"
  }
 },
 "nbformat": 4,
 "nbformat_minor": 2
}
