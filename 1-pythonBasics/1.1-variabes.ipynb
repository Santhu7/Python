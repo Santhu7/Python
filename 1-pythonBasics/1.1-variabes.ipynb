{
 "cells": [
  {
   "cell_type": "code",
   "execution_count": 1,
   "metadata": {},
   "outputs": [],
   "source": [
    "#variable creation -- variable declaration/initiation\n",
    "#In python variables are created when we assign value to them, they don't need to explicitly declare them -- memory optimization\n",
    "#Declaration happens automatically when we assign value to them\n",
    "\n",
    "\n",
    "#Variables should be descriptive\n",
    "#They can start with letters and '_' and can contains numbers and underscores\n",
    "#Variable names are case sensitive\n"
   ]
  },
  {
   "cell_type": "code",
   "execution_count": 3,
   "metadata": {},
   "outputs": [],
   "source": [
    "#Valid Variable names\n",
    "myName=\"Santhosh\"\n",
    "_yourName=\"your name\"\n"
   ]
  },
  {
   "cell_type": "code",
   "execution_count": 6,
   "metadata": {},
   "outputs": [
    {
     "ename": "SyntaxError",
     "evalue": "invalid decimal literal (1321368465.py, line 2)",
     "output_type": "error",
     "traceback": [
      "\u001b[1;36m  Cell \u001b[1;32mIn[6], line 2\u001b[1;36m\u001b[0m\n\u001b[1;33m    1hulkname=\"HUlk\"\u001b[0m\n\u001b[1;37m    ^\u001b[0m\n\u001b[1;31mSyntaxError\u001b[0m\u001b[1;31m:\u001b[0m invalid decimal literal\n"
     ]
    }
   ],
   "source": [
    "#Invakid names\n",
    "1hulkname=\"HUlk\"\n",
    "first-name=\"first Name\"\n",
    "@name=\"Invalid Name\""
   ]
  },
  {
   "cell_type": "code",
   "execution_count": 8,
   "metadata": {},
   "outputs": [
    {
     "name": "stdout",
     "output_type": "stream",
     "text": [
      "98\n"
     ]
    }
   ],
   "source": [
    "print(9+89)"
   ]
  },
  {
   "cell_type": "code",
   "execution_count": 9,
   "metadata": {},
   "outputs": [],
   "source": [
    "#variable types\n",
    "#Python is dynamically typed --> type of vairbale is determined at run time\n"
   ]
  },
  {
   "cell_type": "code",
   "execution_count": 10,
   "metadata": {},
   "outputs": [
    {
     "name": "stdout",
     "output_type": "stream",
     "text": [
      "<class 'str'>\n"
     ]
    }
   ],
   "source": [
    "#Type Chrcking\n",
    "print(type(myName))"
   ]
  },
  {
   "cell_type": "code",
   "execution_count": 11,
   "metadata": {},
   "outputs": [
    {
     "name": "stdout",
     "output_type": "stream",
     "text": [
      "Type of variable age before conversion : <class 'int'>\n",
      "Type of variable age after conversion : <class 'int'>\n"
     ]
    }
   ],
   "source": [
    "age=45\n",
    "print(\"Type of variable age before conversion :\",type(age))\n",
    "\n",
    "age_str=str(age)\n",
    "\n",
    "print(\"Type of variable age after conversion :\",type(age))"
   ]
  },
  {
   "cell_type": "code",
   "execution_count": 12,
   "metadata": {},
   "outputs": [
    {
     "name": "stdout",
     "output_type": "stream",
     "text": [
      "<class 'int'>\n"
     ]
    }
   ],
   "source": [
    "age_str=\"43\"\n",
    "age_int=int(age_str)\n",
    "\n",
    "print(type(age_int))"
   ]
  },
  {
   "cell_type": "code",
   "execution_count": 13,
   "metadata": {},
   "outputs": [
    {
     "ename": "ValueError",
     "evalue": "invalid literal for int() with base 10: 'Santhosh'",
     "output_type": "error",
     "traceback": [
      "\u001b[1;31m---------------------------------------------------------------------------\u001b[0m",
      "\u001b[1;31mValueError\u001b[0m                                Traceback (most recent call last)",
      "Cell \u001b[1;32mIn[13], line 3\u001b[0m\n\u001b[0;32m      1\u001b[0m str_name \u001b[38;5;241m=\u001b[39m\u001b[38;5;124m\"\u001b[39m\u001b[38;5;124mSanthosh\u001b[39m\u001b[38;5;124m\"\u001b[39m\n\u001b[1;32m----> 3\u001b[0m str_int\u001b[38;5;241m=\u001b[39m\u001b[38;5;28mint\u001b[39m(str_name)\n\u001b[0;32m      4\u001b[0m \u001b[38;5;28mprint\u001b[39m(\u001b[38;5;28mtype\u001b[39m(str_int))\n",
      "\u001b[1;31mValueError\u001b[0m: invalid literal for int() with base 10: 'Santhosh'"
     ]
    }
   ],
   "source": [
    "str_name =\"Santhosh\"\n",
    "\n",
    "str_int=int(str_name) #this cannot be done since the entire thing is a string\n",
    "print(type(str_int))"
   ]
  },
  {
   "cell_type": "code",
   "execution_count": 14,
   "metadata": {},
   "outputs": [
    {
     "name": "stdout",
     "output_type": "stream",
     "text": [
      "<class 'float'>\n",
      "<class 'int'>\n",
      "5\n"
     ]
    }
   ],
   "source": [
    "height=5.8\n",
    "print(type(height))\n",
    "\n",
    "height_int=int(height)\n",
    "print(type(height_int))\n",
    "print(height_int)"
   ]
  },
  {
   "cell_type": "code",
   "execution_count": 16,
   "metadata": {},
   "outputs": [
    {
     "name": "stdout",
     "output_type": "stream",
     "text": [
      "<class 'int'>\n",
      "<class 'str'>\n",
      "<class 'float'>\n",
      "<class 'float'>\n"
     ]
    }
   ],
   "source": [
    "#Dynamic Typing\n",
    "#Python allows the type of variable to change as the program executes --> we can change the variable content as we execute the program\n",
    "\n",
    "\n",
    "var_=56\n",
    "print(type(var_))\n",
    "\n",
    "var_=\"raw string\"\n",
    "print(type(var_))\n",
    "\n",
    "var_=89.34\n",
    "print(type(var_))\n",
    "\n",
    "\n",
    "var_=5.45\n",
    "print(type(var_))"
   ]
  },
  {
   "cell_type": "code",
   "execution_count": 3,
   "metadata": {},
   "outputs": [
    {
     "name": "stdout",
     "output_type": "stream",
     "text": [
      "ENtered input type by default : <class 'str'>\n",
      "Thanks for the information, noted your age as : 45\n"
     ]
    }
   ],
   "source": [
    "#Input  -- By default the type of the input would be string\n",
    "user_age = input(\"Enter your age : \")\n",
    "print(\"ENtered input type by default :\",type(user_age))\n",
    "print(\"Thanks for the information, noted your age as :\",user_age)"
   ]
  },
  {
   "cell_type": "code",
   "execution_count": 10,
   "metadata": {},
   "outputs": [
    {
     "name": "stdout",
     "output_type": "stream",
     "text": [
      "Basic Caluculator\n",
      "Going to Perform Addition, Substraction, Multiplication, Division\n",
      "Enter First Number\n",
      "Enter Second Number\n",
      "What do want to Perform..?\n",
      "1.Addition\n",
      "2.Substaraction\n",
      "3.Multiplication\n",
      "4.Division\n",
      "Division of 15.0 and 89.0 is : 0.169\n"
     ]
    }
   ],
   "source": [
    "print(\"Basic Caluculator\\nGoing to Perform Addition, Substraction, Multiplication, Division\")\n",
    "print(\"Enter First Number\")\n",
    "num1=float(input())\n",
    "print(\"Enter Second Number\")\n",
    "num2=float(input())\n",
    "print(\"What do want to Perform..?\\n1.Addition\\n2.Substaraction\\n3.Multiplication\\n4.Division\")\n",
    "\n",
    "choice=int(input(\"Enter your choice in numbers....\"))\n",
    "if(choice==1):\n",
    "    print(\"Addition of {} and {} is : {}\".format(num1,num2,num1+num2))\n",
    "elif(choice==2):\n",
    "    print(\"Substraction of {} and {} is : {}\".format(num1,num2,num1-num2))\n",
    "elif(choice==3):\n",
    "    print(\"Multiplication of {} and {} is : {}\".format(num1,num2,round(num1*num2,3)))\n",
    "elif(choice==4):\n",
    "    print(\"Division of {} and {} is : {}\".format(num1,num2,round(num1/num2,3)))\n",
    "else:\n",
    "    print(\"Wrong choice\")\n",
    "\n",
    "    "
   ]
  },
  {
   "cell_type": "code",
   "execution_count": null,
   "metadata": {},
   "outputs": [],
   "source": []
  }
 ],
 "metadata": {
  "kernelspec": {
   "display_name": "Python 3",
   "language": "python",
   "name": "python3"
  },
  "language_info": {
   "codemirror_mode": {
    "name": "ipython",
    "version": 3
   },
   "file_extension": ".py",
   "mimetype": "text/x-python",
   "name": "python",
   "nbconvert_exporter": "python",
   "pygments_lexer": "ipython3",
   "version": "3.12.4"
  }
 },
 "nbformat": 4,
 "nbformat_minor": 2
}
