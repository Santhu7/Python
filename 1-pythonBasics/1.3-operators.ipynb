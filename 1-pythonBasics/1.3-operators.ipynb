{
 "cells": [
  {
   "cell_type": "code",
   "execution_count": null,
   "metadata": {},
   "outputs": [],
   "source": [
    "#Arthematic Operators\n",
    "#Comparision Operators\n",
    "#Logical Operators"
   ]
  },
  {
   "cell_type": "code",
   "execution_count": 1,
   "metadata": {},
   "outputs": [
    {
     "name": "stdout",
     "output_type": "stream",
     "text": [
      "Strign1String2\n"
     ]
    }
   ],
   "source": [
    "#artheatic operations\n",
    "s1 = \"Strign1\"\n",
    "s2 = \"String2\"\n",
    "print(s1+s2)"
   ]
  },
  {
   "cell_type": "code",
   "execution_count": 14,
   "metadata": {},
   "outputs": [
    {
     "name": "stdout",
     "output_type": "stream",
     "text": [
      "Moduls -- REmiander : 9\n",
      "Floor division --- Quotient : 2\n"
     ]
    }
   ],
   "source": [
    "##Floor division  --- gives the quotient and round off that to the nearest integer\n",
    "##Modulus --- gives the remainder\n",
    "\n",
    "aw = 10\n",
    "rf = 29\n",
    "print(\"Moduls -- REmiander :\",rf%aw)\n",
    "print(\"Floor division --- Quotient :\",rf//aw)"
   ]
  },
  {
   "cell_type": "code",
   "execution_count": 15,
   "metadata": {},
   "outputs": [],
   "source": [
    "#Comparsion Operators\n",
    "##Equal to ==\n",
    "##Not Equal to !=\n",
    "##greater than >\n",
    "##less than <\n",
    "##Greater than or Equal to >=\n",
    "##less than or Equal to  <=\n"
   ]
  },
  {
   "cell_type": "code",
   "execution_count": 34,
   "metadata": {},
   "outputs": [
    {
     "name": "stdout",
     "output_type": "stream",
     "text": [
      "Logical OR\n",
      "4\n",
      "4\n",
      "bitwise OR\n",
      "4\n",
      "4\n",
      "Logical AND\n",
      "0\n",
      "0\n",
      "bitwise AND\n",
      "0\n",
      "0\n"
     ]
    }
   ],
   "source": [
    "#Logical Operators\n",
    "## AND, NOT, OR\n",
    "\n",
    "##Logical AND and Logical OR\n",
    "\n",
    "#3 OR 4\n",
    "#We know that the statement will return true, but which value will it return? To figure this out you have to understand which value will be the last one looked at. The system will look at 3, and realize that the statement is true. It doesn't matter what the second value is, 3 or anything is true. So the value returned is 3 because it is the last value checked.\n",
    "\n",
    "# 3 AND 4\n",
    "#Once we look at 3, we still need to check that the second value is true. It could makes a difference. So the second value is evaluated. If it is true, it returns the last value looked at, in this case 4.\n",
    "\n",
    "\n",
    "d = 4\n",
    "g = 0\n",
    "print(\"Logical OR\")\n",
    "print(g or d)\n",
    "print(d or g)\n",
    "\n",
    "print(\"bitwise OR\")\n",
    "print(g | d)\n",
    "print(d | g)\n",
    "\n",
    "print(\"Logical AND\")\n",
    "print(g and d)\n",
    "print(d and g)\n",
    "\n",
    "print(\"bitwise AND\")\n",
    "print(g & d)\n",
    "print(d & g)"
   ]
  },
  {
   "cell_type": "code",
   "execution_count": null,
   "metadata": {},
   "outputs": [],
   "source": []
  }
 ],
 "metadata": {
  "kernelspec": {
   "display_name": "Python 3",
   "language": "python",
   "name": "python3"
  },
  "language_info": {
   "codemirror_mode": {
    "name": "ipython",
    "version": 3
   },
   "file_extension": ".py",
   "mimetype": "text/x-python",
   "name": "python",
   "nbconvert_exporter": "python",
   "pygments_lexer": "ipython3",
   "version": "3.12.4"
  }
 },
 "nbformat": 4,
 "nbformat_minor": 2
}
