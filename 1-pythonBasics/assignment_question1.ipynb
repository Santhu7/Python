{
 "cells": [
  {
   "cell_type": "markdown",
   "metadata": {},
   "source": [
    "# Lesson 1.2: Python Basics\n",
    "## Topics Covered:\n",
    "- Syntax and Semantics\n",
    "- Variables and Data Types\n",
    "- Basic Operators (Arithmetic, Comparison, Logical)\n"
   ]
  },
  {
   "cell_type": "markdown",
   "metadata": {},
   "source": [
    "## 1. Syntax and Semantics\n",
    "\n",
    "**Question 1:** Write a Python program to print \"Hello, World!\"."
   ]
  },
  {
   "cell_type": "code",
   "execution_count": null,
   "metadata": {},
   "outputs": [],
   "source": [
    "# Your code here\n",
    "print(\"Hello, World!\")"
   ]
  },
  {
   "cell_type": "markdown",
   "metadata": {},
   "source": [
    "**Question 2:** Write a Python program that takes a user input and prints it."
   ]
  },
  {
   "cell_type": "code",
   "execution_count": null,
   "metadata": {},
   "outputs": [],
   "source": [
    "# Your code here\n",
    "input_variable = input(\"Enter any input : \")\n",
    "print(\"Yu have entered : \",input_variable)"
   ]
  },
  {
   "cell_type": "markdown",
   "metadata": {},
   "source": [
    "**Question 3:** Write a Python program to check if a number is positive, negative, or zero."
   ]
  },
  {
   "cell_type": "code",
   "execution_count": null,
   "metadata": {},
   "outputs": [],
   "source": [
    "# Your code here\n",
    "v = input(\"Enter any number : \")\n",
    "if(int(v)==0):\n",
    "    print(\"Entered NUmber is {}\".format(v))\n",
    "elif(int(v)<0):\n",
    "    print(\"ENtered {} is negative\".format(v))\n",
    "elif(int(v)>0):\n",
    "    print(\"ENtered {} is Positive\".format(v))\n",
    "else:\n",
    "    print(\"ENtered {} is not a number\".format(v))\n"
   ]
  },
  {
   "cell_type": "markdown",
   "metadata": {},
   "source": [
    "**Question 4:** Write a Python program to find the largest of three numbers."
   ]
  },
  {
   "cell_type": "code",
   "execution_count": null,
   "metadata": {},
   "outputs": [],
   "source": [
    "# Your code here\n",
    "n1 = int(input(\"Enter NUmber1\"))\n",
    "n2 = int(input(\"Enter NUmber2\"))\n",
    "n3 = int(input(\"Enter NUmber3\"))\n",
    "print(\"ENtered NUmbers are {}, {},{}\".format(n1,n2,n3))\n",
    "if(n1==n2 and n2==n3):\n",
    "    print(\"All Entered Numbers are same\")\n",
    "elif(n1>n2 and n1>n3):\n",
    "    print(\"Greatest Number is : {}\".format(n1))\n",
    "elif(n2>n3 and n2>n1):\n",
    "    print(\"Greatest Number is : {}\".format(n2))\n",
    "else:\n",
    "    print(\"Greatest Number is : {}\".format(n3))"
   ]
  },
  {
   "cell_type": "markdown",
   "metadata": {},
   "source": [
    "**Question 5:** Write a Python program to calculate the factorial of a number."
   ]
  },
  {
   "cell_type": "code",
   "execution_count": null,
   "metadata": {},
   "outputs": [],
   "source": [
    "# Your code here\n",
    "fact_num = int(input(\"ENter your NUmber : \"))\n",
    "fact_ans = 1\n",
    "for i in range(1,fact_num+1):\n",
    "    fact_ans = fact_ans*i\n",
    "print(\"Factorial of given number {} is {}\".format(fact_num,fact_ans))"
   ]
  },
  {
   "cell_type": "markdown",
   "metadata": {},
   "source": [
    "## 2. Variables and Data Types\n",
    "\n",
    "**Question 6:** Create variables of different data types: integer, float, string, and boolean. Print their values and types."
   ]
  },
  {
   "cell_type": "code",
   "execution_count": null,
   "metadata": {},
   "outputs": [],
   "source": [
    "# Your code here\n",
    "int_var = 3\n",
    "float_var = 3.45\n",
    "string_var = \"Hi there\"\n",
    "bool_var = True\n",
    "\n",
    "print(\"Int Variable {}, Data Type is {}\".format(int_var,type(int_var)))\n",
    "print(\"Float Variable {}, Data Type is {}\".format(float_var,type(float_var)))\n",
    "print(\"String Variable {}, Data Type is {}\".format(string_var,type(string_var)))\n",
    "print(\"Bool Variable {}, Data Type is {}\".format(bool_var,type(bool_var)))"
   ]
  },
  {
   "cell_type": "markdown",
   "metadata": {},
   "source": [
    "**Question 7:** Write a Python program to swap the values of two variables."
   ]
  },
  {
   "cell_type": "code",
   "execution_count": null,
   "metadata": {},
   "outputs": [],
   "source": [
    "# Your code here\n",
    "sw_1 = int(input(\"ENter First Number\"))\n",
    "sw_2 = int(input(\"ENter Second Number\"))\n",
    "print(\"Entered Numbers num1 : {}, num2 : {}\".format(sw_1,sw_2))\n",
    "sum_b = sw_2+sw_1\n",
    "sa_1 = sum_b - sw_1\n",
    "sa_2 = sum_b - sw_2\n",
    "print(\"AFter Swaping Numbers num1 : {}, num2 : {}\".format(sa_1,sa_2))"
   ]
  },
  {
   "cell_type": "markdown",
   "metadata": {},
   "source": [
    "**Question 8:** Write a Python program to convert Celsius to Fahrenheit."
   ]
  },
  {
   "cell_type": "code",
   "execution_count": null,
   "metadata": {},
   "outputs": [],
   "source": [
    "# Your code here\n",
    "t_c = int(input(\"ENter temperature in Celsius : \"))\n",
    "t_F = (((t_c*9)/5)+32)\n",
    "print(\"Fahrenheit Temp : \",t_F)\n"
   ]
  },
  {
   "cell_type": "markdown",
   "metadata": {},
   "source": [
    "**Question 9:** Write a Python program to concatenate two strings."
   ]
  },
  {
   "cell_type": "code",
   "execution_count": null,
   "metadata": {},
   "outputs": [],
   "source": [
    "# Your code here\n",
    "s_1 = input(\"Enter String 1\")\n",
    "s_2 = input(\"Enter String 2\")\n",
    "print(\"Combined String : \"+s_1+s_2)"
   ]
  },
  {
   "cell_type": "markdown",
   "metadata": {},
   "source": [
    "**Question 10:** Write a Python program to check if a variable is of a specific data type."
   ]
  },
  {
   "cell_type": "code",
   "execution_count": null,
   "metadata": {},
   "outputs": [],
   "source": [
    "# Your code here\n",
    "#Use isinstance(object,type)  -- Function  --> Returns True if Object is of same Data Type in type\n",
    "var_d = 4.5\n",
    "if isinstance(var_d,int):\n",
    "    print(\"Entered {} is Integer Data Type\".format(var_d))\n",
    "elif isinstance(var_d,float):\n",
    "    print(\"Entered {} is Floating Point Data Type\".format(var_d))\n",
    "elif isinstance(var_d,bool):\n",
    "    print(\"Entered {} is Boolean Data Type\".format(var_d))\n",
    "elif isinstance(var_d,str):\n",
    "    print(\"Entered {} is String Data Type\".format(var_d))"
   ]
  },
  {
   "cell_type": "markdown",
   "metadata": {},
   "source": [
    "## 3. Basic Operators (Arithmetic, Comparison, Logical)\n",
    "\n",
    "**Question 11:** Write a Python program to perform arithmetic operations: addition, subtraction, multiplication, and division."
   ]
  },
  {
   "cell_type": "code",
   "execution_count": null,
   "metadata": {},
   "outputs": [],
   "source": [
    "# Your code here\n",
    "print(\"Basic Caluculator\\nGoing to Perform Addition, Substraction, Multiplication, Division\")\n",
    "print(\"Enter First Number\")\n",
    "num1=float(input())\n",
    "print(\"Enter Second Number\")\n",
    "num2=float(input())\n",
    "print(\"What do want to Perform..?\\n1.Addition\\n2.Substaraction\\n3.Multiplication\\n4.Division\")\n",
    "\n",
    "choice=int(input(\"Enter your choice in numbers....\"))\n",
    "if(choice==1):\n",
    "    print(\"Addition of {} and {} is : {}\".format(num1,num2,num1+num2))\n",
    "elif(choice==2):\n",
    "    print(\"Substraction of {} and {} is : {}\".format(num1,num2,num1-num2))\n",
    "elif(choice==3):\n",
    "    print(\"Multiplication of {} and {} is : {}\".format(num1,num2,round(num1*num2,3)))\n",
    "elif(choice==4):\n",
    "    print(\"Division of {} and {} is : {}\".format(num1,num2,round(num1/num2,3)))\n",
    "else:\n",
    "    print(\"Wrong choice\")\n",
    "\n",
    "    "
   ]
  },
  {
   "cell_type": "markdown",
   "metadata": {},
   "source": [
    "**Question 12:** Write a Python program to demonstrate comparison operators: equal to, not equal to, greater than, less than."
   ]
  },
  {
   "cell_type": "code",
   "execution_count": null,
   "metadata": {},
   "outputs": [],
   "source": [
    "# Your code here\n",
    "comp1 = float(input(\"ENter first NUmber\"))\n",
    "comp2 = float(input(\"ENter Second NUmber\"))\n",
    "if comp1==comp2:\n",
    "    print(\"Entered NUmbers {},{} both are Equal\".format(comp1,comp2))\n",
    "elif comp2!=comp1:\n",
    "    print(\"Entered NUmbers {},{} are Not Equal\".format(comp1,comp2))\n",
    "    if comp1>comp2:\n",
    "        print(\"{} is Greater than {}\".format(comp1,comp2))\n",
    "    else:\n",
    "        print(\"{} is Greater than {}\".format(comp2,comp1))\n",
    "else:\n",
    "    print(\"Invalid Input\")"
   ]
  },
  {
   "cell_type": "markdown",
   "metadata": {},
   "source": [
    "**Question 13:** Write a Python program to demonstrate logical operators: and, or, not."
   ]
  },
  {
   "cell_type": "code",
   "execution_count": null,
   "metadata": {},
   "outputs": [],
   "source": [
    "# Your code here\n",
    "print(\"Logical Operators : AND, OR, NOT\")\n",
    "log1 = int(input(\"Enter First Number : \"))\n",
    "log2 = int(input(\"Enter Second Number : \"))\n",
    "print(\"Logical AND : \"+str(log1 and log2))\n",
    "print(\"Logical OR : \"+str(log1 or log2))\n",
    "print(\"Logical NOT of {} is \".format(log1)+str(not log1))\n",
    "print(\"Logical NOT of {} is \".format(log2)+str(not log2))"
   ]
  },
  {
   "cell_type": "markdown",
   "metadata": {},
   "source": [
    "**Question 14:** Write a Python program to calculate the square of a number."
   ]
  },
  {
   "cell_type": "code",
   "execution_count": null,
   "metadata": {},
   "outputs": [],
   "source": [
    "# Your code here\n",
    "sq = int(input(\"Enter any NUmber\"))\n",
    "print(\"Square of {} is {}\".format(sq,sq*sq))"
   ]
  },
  {
   "cell_type": "markdown",
   "metadata": {},
   "source": [
    "**Question 15:** Write a Python program to check if a number is even or odd."
   ]
  },
  {
   "cell_type": "code",
   "execution_count": null,
   "metadata": {},
   "outputs": [],
   "source": [
    "# Your code here\n",
    "e_o = int(input(\"Enter any POsitive number\"))\n",
    "if e_o%2==0:\n",
    "    print(\"Entered {} is Even\".format(e_o))\n",
    "else:\n",
    "    print(\"Entered {} is Odd\".format(e_o))"
   ]
  },
  {
   "cell_type": "markdown",
   "metadata": {},
   "source": [
    "**Question 16:** Write a Python program to find the sum of the first n natural numbers."
   ]
  },
  {
   "cell_type": "code",
   "execution_count": 5,
   "metadata": {},
   "outputs": [
    {
     "name": "stdout",
     "output_type": "stream",
     "text": [
      "Sum of first 10 natural NUmbers is 55\n"
     ]
    },
    {
     "data": {
      "text/plain": [
       "'\\nsum_M = 0\\ni=0\\n#Using While loop\\nwhile(i<=sum_n):\\n    sum_M=sum_M+i\\n    i+=1\\n    \\nprint(sum_M)\\n'"
      ]
     },
     "execution_count": 5,
     "metadata": {},
     "output_type": "execute_result"
    }
   ],
   "source": [
    "# Your code here\n",
    "sum_n = int(input(\"ENter the number to see Sum of N numbers\"))\n",
    "sum_M = 0\n",
    "for i in range(1,sum_n+1):\n",
    "    sum_M = sum_M+i\n",
    "\n",
    "\n",
    "print(\"Sum of first {} natural NUmbers is {}\".format(sum_n,sum_M))\n",
    "\n",
    "\"\"\"\n",
    "sum_M = 0\n",
    "i=0\n",
    "#Using While loop\n",
    "while(i<=sum_n):\n",
    "    sum_M=sum_M+i\n",
    "    i+=1\n",
    "    \n",
    "print(sum_M)\n",
    "\"\"\""
   ]
  },
  {
   "cell_type": "markdown",
   "metadata": {},
   "source": [
    "**Question 17:** Write a Python program to check if a year is a leap year."
   ]
  },
  {
   "cell_type": "code",
   "execution_count": null,
   "metadata": {},
   "outputs": [],
   "source": [
    "# Your code here\n",
    "ye = int(input(\"ENter an year\"))\n",
    "if ye%4 == 0 or ye%400==0:\n",
    "    print(\"Entered {} is Leap Year\".format(ye))\n",
    "else:\n",
    "    print(\"{} Non Leap Year\".format(ye))"
   ]
  },
  {
   "cell_type": "markdown",
   "metadata": {},
   "source": [
    "**Question 18:** Write a Python program to reverse a string."
   ]
  },
  {
   "cell_type": "code",
   "execution_count": null,
   "metadata": {},
   "outputs": [],
   "source": [
    "# Your code here\n",
    "iString = input(\"Enter Any String\")\n",
    "print(\"Entered String : \"+iString)\n",
    "lString = len(iString)\n",
    "for i in range(0,len(iString)):\n",
    "    lString = lString-1\n",
    "    print(iString[lString],end=\"\")"
   ]
  },
  {
   "cell_type": "markdown",
   "metadata": {},
   "source": [
    "**Question 19:** Write a Python program to check if a string is a palindrome."
   ]
  },
  {
   "cell_type": "code",
   "execution_count": null,
   "metadata": {},
   "outputs": [],
   "source": [
    "# Your code here"
   ]
  },
  {
   "cell_type": "markdown",
   "metadata": {},
   "source": [
    "**Question 20:** Write a Python program to sort a list of numbers in ascending order."
   ]
  },
  {
   "cell_type": "code",
   "execution_count": null,
   "metadata": {},
   "outputs": [],
   "source": [
    "# Your code here"
   ]
  }
 ],
 "metadata": {
  "kernelspec": {
   "display_name": "Python 3",
   "language": "python",
   "name": "python3"
  },
  "language_info": {
   "codemirror_mode": {
    "name": "ipython",
    "version": 3
   },
   "file_extension": ".py",
   "mimetype": "text/x-python",
   "name": "python",
   "nbconvert_exporter": "python",
   "pygments_lexer": "ipython3",
   "version": "3.12.4"
  }
 },
 "nbformat": 4,
 "nbformat_minor": 4
}
