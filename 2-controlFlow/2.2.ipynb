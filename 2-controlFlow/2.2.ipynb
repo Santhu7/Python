{
 "cells": [
  {
   "cell_type": "code",
   "execution_count": null,
   "metadata": {},
   "outputs": [],
   "source": [
    "#for loop\n",
    "#while loop\n",
    "#do while loop\n",
    "\n",
    "\n",
    "#loop control statements\n",
    "#break\n",
    "#continue\n",
    "#pass\n"
   ]
  },
  {
   "cell_type": "code",
   "execution_count": 11,
   "metadata": {},
   "outputs": [
    {
     "name": "stdout",
     "output_type": "stream",
     "text": [
      "Prime Numbers Between 1 and 100 are : 3 5 7 11 13 17 19 23 29 31 37 41 43 47 53 59 61 67 71 73 79 83 89 97 "
     ]
    }
   ],
   "source": [
    "#Prime NUmbers between the given Range\n",
    "num1 = int(input(\"Enter Lower NUmber\"))\n",
    "num2 = int(input(\"Enter Higher NUmber\"))\n",
    "\n",
    "print(f\"Prime Numbers Between {num1} and {num2} are : \",end=\"\")\n",
    "for i in range(num1,num2+1):\n",
    "    fact = 0\n",
    "    if i==2 or i==1:\n",
    "        continue\n",
    "    for j in range(1,i):\n",
    "        if i%j == 0:\n",
    "            fact+=1\n",
    "    if fact<2:\n",
    "        print(i,end=\" \")\n"
   ]
  },
  {
   "cell_type": "code",
   "execution_count": null,
   "metadata": {},
   "outputs": [],
   "source": []
  }
 ],
 "metadata": {
  "kernelspec": {
   "display_name": "base",
   "language": "python",
   "name": "python3"
  },
  "language_info": {
   "codemirror_mode": {
    "name": "ipython",
    "version": 3
   },
   "file_extension": ".py",
   "mimetype": "text/x-python",
   "name": "python",
   "nbconvert_exporter": "python",
   "pygments_lexer": "ipython3",
   "version": "3.12.4"
  }
 },
 "nbformat": 4,
 "nbformat_minor": 2
}
