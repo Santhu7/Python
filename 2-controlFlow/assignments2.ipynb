{
 "cells": [
  {
   "cell_type": "markdown",
   "metadata": {},
   "source": [
    "# Module 2: Control Flow Assignments\n",
    "## Lesson 2.1: Conditional Statements\n",
    "### Assignment 1: Simple if Statement\n",
    "\n",
    "Write a program that asks the user to input a number and prints whether the number is positive.\n",
    "\n",
    "### Assignment 2: if-else Statement\n",
    "\n",
    "Write a program that asks the user to input a number and prints whether the number is positive or negative.\n",
    "\n",
    "### Assignment 3: if-elif-else Statement\n",
    "\n",
    "Write a program that asks the user to input a number and prints whether the number is positive, negative, or zero.\n",
    "\n",
    "### Assignment 4: Nested if Statement\n",
    "\n",
    "Write a program that asks the user to input a number and prints whether the number is positive and even, positive and odd, or negative.\n",
    "\n",
    "## Lesson 2.2: Loops\n",
    "### Assignment 5: for Loop\n",
    "\n",
    "Write a program that prints all the numbers from 1 to 10 using a for loop.\n",
    "\n",
    "### Assignment 6: while Loop\n",
    "\n",
    "Write a program that prints all the numbers from 1 to 10 using a while loop.\n",
    "\n",
    "### Assignment 7: Nested Loops\n",
    "\n",
    "Write a program that prints a 5x5 grid of asterisks (*) using nested loops.\n",
    "\n",
    "### Assignment 8: break Statement\n",
    "\n",
    "Write a program that asks the user to input numbers until they input 0. The program should print the sum of all the input numbers.\n",
    "\n",
    "### Assignment 9: continue Statement\n",
    "\n",
    "Write a program that prints all the numbers from 1 to 10 except 5 using a for loop and continue statement.\n",
    "\n",
    "### Assignment 10: pass Statement\n",
    "\n",
    "Write a program that defines an empty function using the pass statement.\n",
    "\n",
    "### Assignment 11: Combining Loops and Conditionals\n",
    "\n",
    "Write a program that asks the user to input a number and prints all the even numbers from 1 to that number using a for loop.\n",
    "\n",
    "### Assignment 12: Factorial Calculation\n",
    "\n",
    "Write a program that calculates the factorial of a number input by the user using a while loop.\n",
    "\n",
    "### Assignment 13: Sum of Digits\n",
    "\n",
    "Write a program that calculates the sum of the digits of a number input by the user using a while loop.\n",
    "\n",
    "### Assignment 14: Prime Number Check\n",
    "\n",
    "Write a program that checks if a number input by the user is a prime number using a for loop.\n",
    "\n",
    "### Assignment 15: Fibonacci Sequence\n",
    "\n",
    "Write a program that prints the first n Fibonacci numbers, where n is input by the user."
   ]
  },
  {
   "cell_type": "code",
   "execution_count": null,
   "id": "9fdbed09",
   "metadata": {},
   "outputs": [],
   "source": [
    "#Write a program that asks the user to input a number and prints whether the number is positive.\n",
    "f1 = int(input(\"Enter any Integer :\"))\n",
    "if f1>0:\n",
    "    print(\"Positive\")\n",
    "else:\n",
    "    print(\"Not Positive\")"
   ]
  },
  {
   "cell_type": "code",
   "execution_count": null,
   "metadata": {},
   "outputs": [],
   "source": [
    "\n",
    "#Write a program that asks the user to input a number and prints whether the number is positive or negative.\n",
    "f2 = int(input(\"Enter any Integer :\"))\n",
    "if f2>0:\n",
    "    print(\"Positive\")\n",
    "elif f2<0:\n",
    "    print(\"Negative\")\n",
    "else:\n",
    "    print(\"Invalid\")"
   ]
  },
  {
   "cell_type": "code",
   "execution_count": null,
   "id": "8d763bb7",
   "metadata": {},
   "outputs": [],
   "source": [
    "#Write a program that asks the user to input a number and prints whether the number is positive, negative, or zero.\n",
    "f3 = int(input(\"Enter any Integer :\"))\n",
    "if f3>0:\n",
    "    print(\"Positive\")\n",
    "elif f3<0:\n",
    "    print(\"Negative\")\n",
    "elif f3==0:\n",
    "    print(\"Zero\")\n",
    "else:\n",
    "    print(\"Invalid\")\n"
   ]
  },
  {
   "cell_type": "code",
   "execution_count": null,
   "id": "90ff7c60",
   "metadata": {},
   "outputs": [],
   "source": [
    "#Write a program that asks the user to input a number and prints whether the number is positive and even, positive and odd, or negative.\n",
    "f4 = int(input(\"Enter any Integer :\"))\n",
    "if f4>0:\n",
    "    if f4%2==0:\n",
    "        print(\"Positive - EVen\")\n",
    "    else:\n",
    "        print(\"Positive - Odd\")\n",
    "elif f4<0:\n",
    "    print(\"Negative\")\n",
    "else:\n",
    "    print(\"Invalid\")"
   ]
  },
  {
   "cell_type": "code",
   "execution_count": null,
   "id": "90a22725",
   "metadata": {},
   "outputs": [],
   "source": [
    "#Write a program that prints all the numbers from 1 to 10 using a for loop.\n",
    "for i in range(1,11):\n",
    "    if i==10:\n",
    "        print(i)\n",
    "        break\n",
    "    print(i,end =\",\")"
   ]
  },
  {
   "cell_type": "code",
   "execution_count": null,
   "id": "33f590a9",
   "metadata": {},
   "outputs": [],
   "source": [
    "#Write a program that prints all the numbers from 1 to 10 using a while loop.\n",
    "j=1\n",
    "while(j<11):\n",
    "    if j==10:\n",
    "        print(j)\n",
    "        break\n",
    "    print(j,end =\",\")\n",
    "    j+=1"
   ]
  },
  {
   "cell_type": "code",
   "execution_count": null,
   "id": "ba58a4ea",
   "metadata": {},
   "outputs": [],
   "source": [
    "#Write a program that prints a 5x5 grid of asterisks (*) using nested loops.\n",
    "for ik in range(5):\n",
    "    for kj in range(5):\n",
    "        print(\"*\",end=\" \")\n",
    "    print(\"\\n\")"
   ]
  },
  {
   "cell_type": "code",
   "execution_count": null,
   "id": "2db9c191",
   "metadata": {},
   "outputs": [],
   "source": [
    "#Write a program that asks the user to input numbers until they input 0. The program should print the sum of all the input numbers.\n",
    "sumi = 0\n",
    "while(True):\n",
    "    temp_var = int(input(\"Enter any Interger : \"))\n",
    "    if temp_var == 0:\n",
    "        break\n",
    "    else:\n",
    "        print(f\"Entered Numbers : {temp_var}\",end=\",\")\n",
    "        sumi = sumi + temp_var\n",
    "print(\"\\n\")\n",
    "print(f\"Sum of all entered Numbers : {sumi}\")"
   ]
  },
  {
   "cell_type": "code",
   "execution_count": null,
   "id": "d233afc7",
   "metadata": {},
   "outputs": [],
   "source": [
    "\n",
    "#Write a program that prints all the numbers from 1 to 10 except 5 using a for loop and continue statement.\n",
    "for ih in range(1,10):\n",
    "    if ih==5:\n",
    "        continue\n",
    "    else:\n",
    "        print(ih,end=\" \")"
   ]
  },
  {
   "cell_type": "code",
   "execution_count": null,
   "id": "323b79bd",
   "metadata": {},
   "outputs": [],
   "source": [
    "#Write a program that defines an empty function using the pass statement.\n",
    "def empTYFunc():\n",
    "    pass\n",
    "i = empTYFunc()\n",
    "print(i)"
   ]
  },
  {
   "cell_type": "code",
   "execution_count": null,
   "id": "0ad5f856",
   "metadata": {},
   "outputs": [],
   "source": [
    "#Write a program that asks the user to input a number and prints all the even numbers from 1 to that number using a for loop.\n",
    "ig = int(input(\"ENter the Last Number till which we want to Print even number in between 1 and this NUmber\"))\n",
    "for yu in range(1,ig+1):\n",
    "    if yu%2==0:\n",
    "        print(yu,end=\" \")"
   ]
  },
  {
   "cell_type": "code",
   "execution_count": null,
   "id": "917b340b",
   "metadata": {},
   "outputs": [],
   "source": [
    "#Write a program that calculates the factorial of a number input by the user using a while loop.\n",
    "fa = int(input(\"Enter a NUmber : \"))\n",
    "fr = 1\n",
    "fac = 1\n",
    "while(fr<=fa):\n",
    "    fac = fac*fr\n",
    "    fr+=1\n",
    "print(f\"factorial of {fa} is {fac}\")"
   ]
  },
  {
   "cell_type": "code",
   "execution_count": null,
   "id": "01b9f619",
   "metadata": {},
   "outputs": [],
   "source": [
    "#Write a program that calculates the sum of the digits of a number input by the user using a while loop.\n",
    "#easy approach\n",
    "sumj = input(\"Enter any NUmber\")\n",
    "suma = 0\n",
    "jk=0\n",
    "while(jk<len(sumj)):\n",
    "    suma = suma + int(sumj[jk])\n",
    "    jk+=1\n",
    "print(f\"Sum of all Digits for entered {sumj} is {suma}\")"
   ]
  },
  {
   "cell_type": "code",
   "execution_count": 27,
   "id": "623ae959",
   "metadata": {},
   "outputs": [
    {
     "name": "stdout",
     "output_type": "stream",
     "text": [
      "24 is Not a prime NUmber\n"
     ]
    }
   ],
   "source": [
    "\n",
    "### Assignment 14: Prime Number Check\n",
    "\n",
    "#Write a program that checks if a number input by the user is a prime number using a for loop.\n",
    "pr_ch = int(input(\"Enter a Number : \"))\n",
    "c_check = 0\n",
    "is_prime = True\n",
    "for inf in range(1,pr_ch):\n",
    "    if pr_ch%inf == 0:\n",
    "        c_check+=1\n",
    "    if c_check>=2:\n",
    "        is_prime = False\n",
    "        break\n",
    "if is_prime:\n",
    "    print(f\"{pr_ch} is a prime NUmber\")\n",
    "else:\n",
    "    print(f\"{pr_ch} is Not a prime NUmber\")"
   ]
  },
  {
   "cell_type": "code",
   "execution_count": null,
   "id": "a1aceffd",
   "metadata": {},
   "outputs": [],
   "source": [
    "\n",
    "### Assignment 15: Fibonacci Sequence\n",
    "\n",
    "#Write a program that prints the first n Fibonacci numbers, where n is input by the user.\n"
   ]
  }
 ],
 "metadata": {
  "kernelspec": {
   "display_name": "Python 3",
   "language": "python",
   "name": "python3"
  },
  "language_info": {
   "codemirror_mode": {
    "name": "ipython",
    "version": 3
   },
   "file_extension": ".py",
   "mimetype": "text/x-python",
   "name": "python",
   "nbconvert_exporter": "python",
   "pygments_lexer": "ipython3",
   "version": "3.12.4"
  }
 },
 "nbformat": 4,
 "nbformat_minor": 5
}
