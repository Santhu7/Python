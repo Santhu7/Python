{
 "cells": [
  {
   "cell_type": "code",
   "execution_count": null,
   "metadata": {},
   "outputs": [],
   "source": [
    "#Lists are Ordered and Mutable and can have items of different data types\n",
    "\n",
    "\n",
    "#modifying data in list\n",
    "nlist = [\"hi\",\"hello\",\"toDo\",2,3,1]\n",
    "print(\"Before modifying , Original Data\")\n",
    "print(nlist)\n",
    "\n",
    "nlist[1] = \"Hello_edited\"\n",
    "print(\"After modifying , Changed Data\")\n",
    "print(nlist)"
   ]
  },
  {
   "cell_type": "code",
   "execution_count": null,
   "metadata": {},
   "outputs": [],
   "source": [
    "#List Methods\n",
    "\n",
    "#Add items\n",
    "#append -- adds an item at the end\n",
    "\n",
    "nlist = [\"hi\",\"hello\",\"toDo\",2,3,1]\n",
    "nlist.append(True)\n",
    "print(nlist)\n"
   ]
  },
  {
   "cell_type": "code",
   "execution_count": null,
   "metadata": {},
   "outputs": [],
   "source": [
    "#insert(index,item)\n",
    "nlist.insert(2,3.13)\n",
    "print(nlist)"
   ]
  },
  {
   "cell_type": "code",
   "execution_count": null,
   "metadata": {},
   "outputs": [],
   "source": [
    "#delete items\n",
    "#remove  --- removes the first occurance of an item\n",
    "nlist.append(\"toDo\")\n",
    "nlist.remove(\"toDo\")\n",
    "print(nlist)"
   ]
  },
  {
   "cell_type": "code",
   "execution_count": null,
   "metadata": {},
   "outputs": [],
   "source": [
    "#pop -- removes and returns the last element\n",
    "#pop(index)\n",
    "rVar = nlist.pop()\n",
    "print(f\"removed item : {rVar}\")\n",
    "print(nlist)"
   ]
  },
  {
   "cell_type": "code",
   "execution_count": null,
   "metadata": {},
   "outputs": [],
   "source": [
    "#getting the index --\n",
    "inDex = nlist.index(\"hi\")\n",
    "print(f\"hi is at index : {inDex}\")"
   ]
  },
  {
   "cell_type": "code",
   "execution_count": null,
   "metadata": {},
   "outputs": [],
   "source": [
    "#count of an element can be see using count\n",
    "#count(item)\n",
    "cList = [1,2,3,1,3,4,1,3,2,3]\n",
    "print(\"Count of 1 in cList is : \",cList.count(1))"
   ]
  },
  {
   "cell_type": "code",
   "execution_count": null,
   "metadata": {},
   "outputs": [],
   "source": [
    "#sort  -- by default Ascending order\n",
    "cList.sort()\n",
    "print(cList)\n",
    "\n",
    "cList.sort(reverse=True)\n",
    "print(cList)"
   ]
  },
  {
   "cell_type": "code",
   "execution_count": null,
   "metadata": {},
   "outputs": [],
   "source": [
    "#reverse --- reverses the list\n",
    "cRList = [1,2,3,1,3,4,32,3,2,21]\n",
    "cRList.reverse()\n",
    "print(cRList)"
   ]
  },
  {
   "cell_type": "code",
   "execution_count": null,
   "metadata": {},
   "outputs": [],
   "source": [
    "#clear the entire list  -- removes all the items in the list\n",
    "\n",
    "clRList = [1,2,3,1,3,4,32,3,2,21]\n",
    "clRList.clear()\n",
    "print(clRList)"
   ]
  },
  {
   "cell_type": "code",
   "execution_count": null,
   "metadata": {},
   "outputs": [],
   "source": [
    "#slicing\n",
    "nUms = [1,2,3,4,5,6,7,8,9,10]\n",
    "\n",
    "print(nUms[::3])\n",
    "print(nUms[-2:-11:-2])\n"
   ]
  },
  {
   "cell_type": "code",
   "execution_count": null,
   "metadata": {},
   "outputs": [],
   "source": [
    "#iterating with index\n",
    "\n",
    "for ind,nm in enumerate(nUms):\n",
    "    print(ind,nm,end=\" \")\n",
    "    print(\"\\n\")"
   ]
  },
  {
   "cell_type": "markdown",
   "metadata": {},
   "source": [
    "## List Comprehensive\n",
    "### Basic Syntax \n",
    "#### [expression for item in iterable]\n",
    "\n",
    "## with conditional Logic \n",
    "#### [expression for item in iterable if condition]\n",
    "\n",
    "## Nested List comprehension\n",
    "#### [expression for item in iterable for item2 in iterable2]"
   ]
  },
  {
   "cell_type": "code",
   "execution_count": null,
   "metadata": {},
   "outputs": [],
   "source": [
    "#List comprehension\n",
    "\n",
    "print(\"Traditional Way\")\n",
    "sqLList = []\n",
    "for isq in range(1,10):\n",
    "    sqLList.append(isq**2)\n",
    "\n",
    "print(sqLList)\n",
    "\n",
    "\n",
    "print(\"List comprehensive\")\n",
    "sqlist = [x**2 for x in range(11,21)]\n",
    "print(sqlist)"
   ]
  },
  {
   "cell_type": "code",
   "execution_count": 46,
   "metadata": {},
   "outputs": [
    {
     "name": "stdout",
     "output_type": "stream",
     "text": [
      "[2, 4, 6, 8, 10, 12, 14, 16, 18, 20, 22, 24, 26, 28, 30, 32, 34, 36, 38, 40, 42, 44]\n"
     ]
    }
   ],
   "source": [
    "#List comprehensive --- with condition\n",
    "\n",
    "evNums = [x for x in range(1,45) if x%2==0]\n",
    "print(evNums)"
   ]
  },
  {
   "cell_type": "code",
   "execution_count": 47,
   "metadata": {},
   "outputs": [
    {
     "name": "stdout",
     "output_type": "stream",
     "text": [
      "[['a', 1], ['a', 2], ['b', 1], ['b', 2]]\n"
     ]
    }
   ],
   "source": [
    "#Nested List comprehension\n",
    "alphs = ['a','b']\n",
    "numbrs = [1,2]\n",
    "pair = [[jk,nm] for jk in alphs for nm in numbrs]\n",
    "print(pair)"
   ]
  },
  {
   "cell_type": "code",
   "execution_count": 48,
   "metadata": {},
   "outputs": [
    {
     "name": "stdout",
     "output_type": "stream",
     "text": [
      "[9, 8, 6, 9, 7]\n"
     ]
    }
   ],
   "source": [
    "#we can even use internal functions\n",
    "wrds = [\"rectangle\",\"triangle\",\"square\",\"trapezium\",\"pyramid\"]\n",
    "leng = [len(its) for its in wrds]\n",
    "print(leng)"
   ]
  },
  {
   "cell_type": "code",
   "execution_count": null,
   "metadata": {},
   "outputs": [],
   "source": []
  }
 ],
 "metadata": {
  "kernelspec": {
   "display_name": "base",
   "language": "python",
   "name": "python3"
  },
  "language_info": {
   "codemirror_mode": {
    "name": "ipython",
    "version": 3
   },
   "file_extension": ".py",
   "mimetype": "text/x-python",
   "name": "python",
   "nbconvert_exporter": "python",
   "pygments_lexer": "ipython3",
   "version": "3.12.4"
  }
 },
 "nbformat": 4,
 "nbformat_minor": 2
}
