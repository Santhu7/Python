{
 "cells": [
  {
   "cell_type": "code",
   "execution_count": 1,
   "metadata": {},
   "outputs": [
    {
     "name": "stdout",
     "output_type": "stream",
     "text": [
      "()\n",
      "<class 'tuple'>\n"
     ]
    }
   ],
   "source": [
    "#Tuples -- Ordered, immutable\n",
    "empty_Tuple = ()\n",
    "\n",
    "print(empty_Tuple)\n",
    "print(type(empty_Tuple))"
   ]
  },
  {
   "cell_type": "code",
   "execution_count": 11,
   "metadata": {},
   "outputs": [
    {
     "name": "stdout",
     "output_type": "stream",
     "text": [
      "(1, 'Hello', True, 12, 1)\n",
      "<class 'tuple'>\n"
     ]
    }
   ],
   "source": [
    "tup = tuple((1,\"Hello\",True,12,1))\n",
    "print(tup)\n",
    "print(type(tup))"
   ]
  },
  {
   "cell_type": "code",
   "execution_count": 12,
   "metadata": {},
   "outputs": [
    {
     "name": "stdout",
     "output_type": "stream",
     "text": [
      "1\n"
     ]
    },
    {
     "data": {
      "text/plain": [
       "(12, 1)"
      ]
     },
     "execution_count": 12,
     "metadata": {},
     "output_type": "execute_result"
    }
   ],
   "source": [
    "#Accessing Tuple elements\n",
    "print(tup[-1])\n",
    "tup[3:]"
   ]
  },
  {
   "cell_type": "code",
   "execution_count": 14,
   "metadata": {},
   "outputs": [
    {
     "name": "stdout",
     "output_type": "stream",
     "text": [
      "(1, 'Hello', True, 12, 1)\n",
      "(1, 'Hello', True, 12, 1, 2, 'Bye', False, 22, 12)\n"
     ]
    }
   ],
   "source": [
    "#Tuple Operations\n",
    "\n",
    "#concatenation\n",
    "print(tup)\n",
    "tup1 = (2, 'Bye', False, 22, 12)\n",
    "print(tup+tup1)\n"
   ]
  },
  {
   "cell_type": "code",
   "execution_count": 15,
   "metadata": {},
   "outputs": [
    {
     "data": {
      "text/plain": [
       "(2, 'Bye', False, 22, 12, 2, 'Bye', False, 22, 12, 2, 'Bye', False, 22, 12)"
      ]
     },
     "execution_count": 15,
     "metadata": {},
     "output_type": "execute_result"
    }
   ],
   "source": [
    "#repeation\n",
    "tup1*3"
   ]
  },
  {
   "cell_type": "code",
   "execution_count": 17,
   "metadata": {},
   "outputs": [
    {
     "ename": "TypeError",
     "evalue": "'tuple' object does not support item assignment",
     "output_type": "error",
     "traceback": [
      "\u001b[1;31m---------------------------------------------------------------------------\u001b[0m",
      "\u001b[1;31mTypeError\u001b[0m                                 Traceback (most recent call last)",
      "Cell \u001b[1;32mIn[17], line 6\u001b[0m\n\u001b[0;32m      3\u001b[0m lst[\u001b[38;5;241m0\u001b[39m] \u001b[38;5;241m=\u001b[39m \u001b[38;5;124m\"\u001b[39m\u001b[38;5;124mHello\u001b[39m\u001b[38;5;124m\"\u001b[39m\n\u001b[0;32m      5\u001b[0m t \u001b[38;5;241m=\u001b[39m (\u001b[38;5;241m2\u001b[39m,\u001b[38;5;241m3\u001b[39m,\u001b[38;5;241m4\u001b[39m,\u001b[38;5;241m5\u001b[39m,\u001b[38;5;241m6\u001b[39m)\n\u001b[1;32m----> 6\u001b[0m t[\u001b[38;5;241m0\u001b[39m] \u001b[38;5;241m=\u001b[39m \u001b[38;5;124m\"\u001b[39m\u001b[38;5;124mHi There\u001b[39m\u001b[38;5;124m\"\u001b[39m\n",
      "\u001b[1;31mTypeError\u001b[0m: 'tuple' object does not support item assignment"
     ]
    }
   ],
   "source": [
    "#Immutable nature of Tuples\n",
    "lst = [2,3,4,5,6]\n",
    "lst[0] = \"Hello\"\n",
    "\n",
    "t = (2,3,4,5,6)\n",
    "t[0] = \"Hi There\""
   ]
  },
  {
   "cell_type": "code",
   "execution_count": 19,
   "metadata": {},
   "outputs": [
    {
     "name": "stdout",
     "output_type": "stream",
     "text": [
      "2\n"
     ]
    }
   ],
   "source": [
    "#Tuple Methods\n",
    "\n",
    "#Count\n",
    "t1 = (2,3,3,1,1,4,5,6)\n",
    "print(t1.count(3))"
   ]
  },
  {
   "cell_type": "code",
   "execution_count": 21,
   "metadata": {},
   "outputs": [
    {
     "name": "stdout",
     "output_type": "stream",
     "text": [
      "1\n"
     ]
    }
   ],
   "source": [
    "#Tuple methods\n",
    "\n",
    "#We can find the index(first Occurance) of the Value\n",
    "print(t1.index(3))"
   ]
  },
  {
   "cell_type": "code",
   "execution_count": 31,
   "metadata": {},
   "outputs": [
    {
     "name": "stdout",
     "output_type": "stream",
     "text": [
      "(1, 'hi the', 8, True, 8.21)\n",
      "1\n",
      "hi the\n",
      "8\n",
      "HI 2 2 42 54\n",
      "HI 2 2 42 54 "
     ]
    }
   ],
   "source": [
    "#Packing and Unpacking tuple\n",
    "\n",
    "#Packing\n",
    "t4 = 1,\"hi the\",8,True,8.21\n",
    "print(t4)\n",
    "\n",
    "\n",
    "#Unpacking\n",
    "i1,i2,i3,i4,i5 = t4\n",
    "print(i1)\n",
    "print(i2)\n",
    "print(i3)\n",
    "\n",
    "\n",
    "tup_sample = (\"HI\",2,2,42,54)\n",
    "#Unpacking with *\n",
    "firSt,Second,thIrd,Fourth,Fifth = tup_sample\n",
    "print(firSt,end =\" \")\n",
    "print(Second,end = \" \")\n",
    "print(thIrd,end=\" \")\n",
    "print(Fourth,end=\" \")\n",
    "print(Fifth)\n",
    "\n",
    "\n",
    "\n",
    "firSt,Second,*middle,Fifth = tup_sample\n",
    "\n",
    "print(firSt,end =\" \")\n",
    "print(Second,end = \" \")\n",
    "print(*middle,end=\" \")\n",
    "print(Fifth,end = \" \")"
   ]
  },
  {
   "cell_type": "code",
   "execution_count": 33,
   "metadata": {},
   "outputs": [
    {
     "name": "stdout",
     "output_type": "stream",
     "text": [
      "(True, False, 'GHj', 109, 'fhd', 3, 5, 23, 56)\n",
      "56\n",
      "(56, 23, 5, 3, 'fhd')\n"
     ]
    }
   ],
   "source": [
    "#Nested Tuples\n",
    "nestedTuple = ((1,2),(\"Hi\",\"There\"),(True,False,\"GHj\",109,\"fhd\",3,5,23,56))\n",
    "print(nestedTuple[-1])\n",
    "print(nestedTuple[-1][-1])\n",
    "print(nestedTuple[-1][:3:-1])"
   ]
  },
  {
   "cell_type": "code",
   "execution_count": null,
   "metadata": {},
   "outputs": [],
   "source": []
  }
 ],
 "metadata": {
  "kernelspec": {
   "display_name": "base",
   "language": "python",
   "name": "python3"
  },
  "language_info": {
   "codemirror_mode": {
    "name": "ipython",
    "version": 3
   },
   "file_extension": ".py",
   "mimetype": "text/x-python",
   "name": "python",
   "nbconvert_exporter": "python",
   "pygments_lexer": "ipython3",
   "version": "3.12.4"
  }
 },
 "nbformat": 4,
 "nbformat_minor": 2
}
