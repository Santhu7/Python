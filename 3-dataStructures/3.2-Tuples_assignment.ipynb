{
 "cells": [
  {
   "cell_type": "markdown",
   "id": "6cade624",
   "metadata": {},
   "source": [
    "# Module 3: Data Structures Assignments\n",
    "## Lesson 3.2: Tuples\n",
    "### Assignment 1: Creating and Accessing Tuples\n",
    "\n",
    "Create a tuple with the first 10 positive integers. Print the tuple.\n",
    "\n",
    "### Assignment 2: Accessing Tuple Elements\n",
    "\n",
    "Print the first, middle, and last elements of the tuple created in Assignment 1.\n",
    "\n",
    "### Assignment 3: Tuple Slicing\n",
    "\n",
    "Print the first three elements, the last three elements, and the elements from index 2 to 5 of the tuple created in Assignment 1.\n",
    "\n",
    "### Assignment 4: Nested Tuples\n",
    "\n",
    "Create a nested tuple representing a 3x3 matrix and print the matrix. Access and print the element at the second row and third column.\n",
    "\n",
    "### Assignment 5: Tuple Concatenation\n",
    "\n",
    "Concatenate two tuples: (1, 2, 3) and (4, 5, 6). Print the resulting tuple.\n",
    "\n",
    "### Assignment 6: Tuple Methods\n",
    "\n",
    "Create a tuple with duplicate elements and count the occurrences of an element. Find the index of the first occurrence of an element in the tuple.\n",
    "\n",
    "### Assignment 7: Unpacking Tuples\n",
    "\n",
    "Create a tuple with 5 elements and unpack it into 5 variables. Print the variables.\n",
    "\n",
    "### Assignment 8: Tuple Conversion\n",
    "\n",
    "Convert a list of the first 5 positive integers to a tuple. Print the tuple.\n",
    "\n",
    "### Assignment 9: Tuple of Tuples\n",
    "\n",
    "Create a tuple containing 3 tuples, each with 3 elements. Print the tuple of tuples.\n",
    "\n",
    "### Assignment 10: Tuple and List\n",
    "\n",
    "Create a tuple with the first 5 positive integers. Convert it to a list, append the number 6, and convert it back to a tuple. Print the resulting tuple.\n",
    "\n",
    "### Assignment 11: Tuple and String\n",
    "\n",
    "Create a tuple with the characters of a string. Join the tuple elements into a single string. Print the string.\n",
    "\n",
    "### Assignment 12: Tuple and Dictionary\n",
    "\n",
    "Create a dictionary with tuple keys and integer values. Print the dictionary.\n",
    "\n",
    "### Assignment 13: Nested Tuple Iteration\n",
    "\n",
    "Create a nested tuple and iterate over the elements, printing each element.\n",
    "\n",
    "### Assignment 14: Tuple and Set\n",
    "\n",
    "Create a tuple with duplicate elements. Convert it to a set to remove duplicates and print the resulting set.\n",
    "\n",
    "### Assignment 15: Tuple Functions\n",
    "\n",
    "Write functions that take a tuple and return the minimum, maximum, and sum of the elements. Print the results for a sample tuple."
   ]
  },
  {
   "cell_type": "code",
   "execution_count": 8,
   "metadata": {},
   "outputs": [
    {
     "name": "stdout",
     "output_type": "stream",
     "text": [
      "(1, 2, 3, 4, 5, 6, 7, 8, 9, 10)\n"
     ]
    }
   ],
   "source": [
    "#Create a tuple with the first 10 positive integers. Print the tuple.\n",
    "tw = []\n",
    "for i in range(1,11):\n",
    "    tw.append(i)\n",
    "tp =tuple(tw)\n",
    "print(tp)"
   ]
  },
  {
   "cell_type": "code",
   "execution_count": 2,
   "id": "029d4e22",
   "metadata": {},
   "outputs": [],
   "source": [
    "#Print the first, middle, and last elements of the tuple created in Assignment 1.\n",
    "print(tp[0])\n",
    "print(tp[5])\n",
    "print(tp[-1])"
   ]
  },
  {
   "cell_type": "code",
   "execution_count": 9,
   "id": "09bda02d",
   "metadata": {},
   "outputs": [
    {
     "name": "stdout",
     "output_type": "stream",
     "text": [
      "(1, 2, 3, 4)\n",
      "(8, 9, 10)\n",
      "(3, 4, 5, 6)\n"
     ]
    }
   ],
   "source": [
    "#Print the first three elements, the last three elements, and the elements from index 2 to 5 of the tuple created in Assignment 1.\n",
    "print(tp[:4])\n",
    "print(tp[7:])\n",
    "print(tp[2:6])"
   ]
  },
  {
   "cell_type": "code",
   "execution_count": 4,
   "id": "d27178d4",
   "metadata": {},
   "outputs": [],
   "source": [
    "#Create a nested tuple representing a 3x3 matrix and print the matrix. Access and print the element at the second row and third column.\n"
   ]
  },
  {
   "cell_type": "code",
   "execution_count": 5,
   "id": "1077fc9c",
   "metadata": {},
   "outputs": [
    {
     "name": "stdout",
     "output_type": "stream",
     "text": [
      "(1, 2, 3, 4, 5, 6)\n"
     ]
    }
   ],
   "source": [
    "#Concatenate two tuples: (1, 2, 3) and (4, 5, 6). Print the resulting tuple.\n",
    "t1 = (1, 2, 3)\n",
    "t2 = (4, 5, 6)\n",
    "print(t1+t2)"
   ]
  },
  {
   "cell_type": "code",
   "execution_count": 14,
   "id": "3b4a0143",
   "metadata": {},
   "outputs": [
    {
     "name": "stdout",
     "output_type": "stream",
     "text": [
      "COunt of 2 in tuple is 6\n",
      "COunt of 4 in tuple is 7\n",
      "COunt of 1 in tuple is 4\n"
     ]
    }
   ],
   "source": [
    "#Create a tuple with duplicate elements and count the occurrences of an element. Find the index of the first occurrence of an element in the tuple.\n",
    "tow = (1,2,4,2,1,1,4,1,2,3,5,4,3,2,4,4,2,4,2,6,4)\n",
    "print(f\"COunt of 2 in tuple is {tow.count(2)}\")\n",
    "print(f\"COunt of 4 in tuple is {tow.count(4)}\")\n",
    "print(f\"COunt of 1 in tuple is {tow.count(1)}\")"
   ]
  },
  {
   "cell_type": "code",
   "execution_count": 15,
   "id": "66083de9",
   "metadata": {},
   "outputs": [
    {
     "name": "stdout",
     "output_type": "stream",
     "text": [
      "1--2--4--2--1\n"
     ]
    }
   ],
   "source": [
    "#Create a tuple with 5 elements and unpack it into 5 variables. Print the variables.\n",
    "tow1 = (1,2,4,2,11)\n",
    "a,b,c,d,e = tow1\n",
    "print(a,end = \"--\")\n",
    "print(b,end = \"--\")\n",
    "print(c,end = \"--\")\n",
    "print(d,end = \"--\")\n",
    "print(e)\n"
   ]
  },
  {
   "cell_type": "code",
   "execution_count": 16,
   "id": "4ab4ff45",
   "metadata": {},
   "outputs": [
    {
     "name": "stdout",
     "output_type": "stream",
     "text": [
      "(1, 2, 3, 4, 5)\n"
     ]
    }
   ],
   "source": [
    "#Convert a list of the first 5 positive integers to a tuple. Print the tuple.\n",
    "ld = []\n",
    "for i in range(1,6):\n",
    "    ld.append(i)\n",
    "t_ld = tuple(ld)\n",
    "print(t_ld)"
   ]
  },
  {
   "cell_type": "code",
   "execution_count": 17,
   "id": "e35965f0",
   "metadata": {},
   "outputs": [
    {
     "name": "stdout",
     "output_type": "stream",
     "text": [
      "((1, 2, 3), (4, 5, 6), (7, 8, 9))\n"
     ]
    }
   ],
   "source": [
    "#Create a tuple containing 3 tuples, each with 3 elements. Print the tuple of tuples.\n",
    "trr = ((1,2,3),(4,5,6),(7,8,9))\n",
    "print(trr)"
   ]
  },
  {
   "cell_type": "code",
   "execution_count": 18,
   "id": "03af5a77",
   "metadata": {},
   "outputs": [
    {
     "name": "stdout",
     "output_type": "stream",
     "text": [
      "(23, 4, 6, 3, 22, 78)\n"
     ]
    }
   ],
   "source": [
    "#Create a tuple with the first 5 positive integers. Convert it to a list, append the number 6, and convert it back to a tuple. Print the resulting tuple.\n",
    "tf = (23,4,6,3,22)\n",
    "tf_l = list(tf)\n",
    "tf_l.append(78)\n",
    "tf = tuple(tf_l)\n",
    "print(tf)"
   ]
  },
  {
   "cell_type": "code",
   "execution_count": 24,
   "id": "35926bb3",
   "metadata": {},
   "outputs": [
    {
     "name": "stdout",
     "output_type": "stream",
     "text": [
      "hello\n"
     ]
    }
   ],
   "source": [
    "#Create a tuple with the characters of a string. Join the tuple elements into a single string. Print the string.\n",
    "t_string = ('h','e','l','l','o')\n",
    "print(t_string[0]+t_string[1]+t_string[2]+t_string[3]+t_string[4])"
   ]
  },
  {
   "cell_type": "code",
   "execution_count": 20,
   "id": "8b4eba56",
   "metadata": {},
   "outputs": [],
   "source": [
    "#Create a dictionary with tuple keys and integer values. Print the dictionary.\n"
   ]
  },
  {
   "cell_type": "code",
   "execution_count": 25,
   "id": "cf23dba4",
   "metadata": {},
   "outputs": [
    {
     "name": "stdout",
     "output_type": "stream",
     "text": [
      "1 2 \n",
      "Hi There \n",
      "True False GHj 109 fhd 3 5 23 56 \n"
     ]
    }
   ],
   "source": [
    "#Create a nested tuple and iterate over the elements, printing each element.\n",
    "nestedTuple = ((1,2),(\"Hi\",\"There\"),(True,False,\"GHj\",109,\"fhd\",3,5,23,56))\n",
    "for ij in nestedTuple:\n",
    "    for k in ij:\n",
    "        print(k,end =\" \")\n",
    "    print()"
   ]
  },
  {
   "cell_type": "code",
   "execution_count": 26,
   "id": "ee493f1e",
   "metadata": {},
   "outputs": [
    {
     "name": "stdout",
     "output_type": "stream",
     "text": [
      "{1, 2, 3, 4, 5, 6}\n"
     ]
    }
   ],
   "source": [
    "#Create a tuple with duplicate elements. Convert it to a set to remove duplicates and print the resulting set.\n",
    "ow = (1,2,4,2,1,1,4,1,2,3,5,4,3,2,4,4,2,4,2,6,4)\n",
    "ow_set = set(ow)\n",
    "print(ow_set)"
   ]
  },
  {
   "cell_type": "code",
   "execution_count": 28,
   "id": "19953455",
   "metadata": {},
   "outputs": [
    {
     "name": "stdout",
     "output_type": "stream",
     "text": [
      "Minimum : 0\n",
      "Maximum : 6\n",
      "Sum : 61\n"
     ]
    }
   ],
   "source": [
    "#Write functions that take a tuple and return the minimum, maximum, and sum of the elements. Print the results for a sample tuple.\n",
    "ow = (1,2,4,2,1,1,4,1,2,3,5,4,3,2,4,4,2,4,2,6,4)\n",
    "min_ow = 0\n",
    "max_ow = 0\n",
    "su = 0\n",
    "for i in ow:\n",
    "    if i>max_ow:\n",
    "        max_ow = i\n",
    "    if i<min_ow:\n",
    "        min_ow = i\n",
    "    su = su + i\n",
    "print(f\"Minimum : {min_ow}\")\n",
    "print(f\"Maximum : {max_ow}\")\n",
    "print(f\"Sum : {su}\")"
   ]
  },
  {
   "cell_type": "code",
   "execution_count": null,
   "id": "259c8630",
   "metadata": {},
   "outputs": [],
   "source": []
  }
 ],
 "metadata": {
  "kernelspec": {
   "display_name": "Python 3",
   "language": "python",
   "name": "python3"
  },
  "language_info": {
   "codemirror_mode": {
    "name": "ipython",
    "version": 3
   },
   "file_extension": ".py",
   "mimetype": "text/x-python",
   "name": "python",
   "nbconvert_exporter": "python",
   "pygments_lexer": "ipython3",
   "version": "3.12.4"
  }
 },
 "nbformat": 4,
 "nbformat_minor": 5
}
