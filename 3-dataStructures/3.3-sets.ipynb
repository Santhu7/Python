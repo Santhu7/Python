{
 "cells": [
  {
   "cell_type": "code",
   "execution_count": 5,
   "metadata": {},
   "outputs": [
    {
     "name": "stdout",
     "output_type": "stream",
     "text": [
      "<class 'dict'>\n",
      "--------------\n",
      "<class 'set'>\n"
     ]
    }
   ],
   "source": [
    "#Sets -- Unordered, Collection of Unique items\n",
    "\n",
    "Set = {}\n",
    "print(type(Set))\n",
    "print(\"--------------\")\n",
    "\n",
    "my_Set = set()\n",
    "print(type(my_Set))"
   ]
  },
  {
   "cell_type": "code",
   "execution_count": 18,
   "metadata": {},
   "outputs": [
    {
     "name": "stdout",
     "output_type": "stream",
     "text": [
      "{1, 2, 34, 4, 5, 6, 8, 9, 11, 45, 21}\n",
      "{1, 2, 34, 4, 5, 6, 8, 9, 11, 45, 21}\n"
     ]
    }
   ],
   "source": [
    "#Adding elements\n",
    "my_Set = {1,2,4,2,4,5,6,8,9,6,2,1,45,6,34,21}\n",
    "my_Set.add(11)\n",
    "print(my_Set)\n",
    "\n",
    "\n",
    "my_Set.add(11)\n",
    "print(my_Set)"
   ]
  },
  {
   "cell_type": "code",
   "execution_count": 19,
   "metadata": {},
   "outputs": [
    {
     "name": "stdout",
     "output_type": "stream",
     "text": [
      "{2, 34, 4, 5, 6, 8, 9, 11, 45, 21}\n",
      "{34, 4, 5, 6, 8, 9, 11, 45, 21}\n"
     ]
    }
   ],
   "source": [
    "#removing elements in set\n",
    "my_Set.remove(1)\n",
    "print(my_Set)\n",
    "\n",
    "\n",
    "#DISCARD ---We will not get any error if we have error\n",
    "my_Set.discard(1)\n",
    "\n",
    "#pop removes a random item in set and returns the removed item\n",
    "my_Set.pop()\n",
    "print(my_Set)\n",
    "\n",
    "#clear all the elements\n",
    "my_Set.clear()\n",
    "print(my_Set)"
   ]
  },
  {
   "cell_type": "code",
   "execution_count": 2,
   "metadata": {},
   "outputs": [
    {
     "name": "stdout",
     "output_type": "stream",
     "text": [
      "True\n",
      "False\n"
     ]
    }
   ],
   "source": [
    "#Membership\n",
    "my_test_Set = {1,26,1,212,2,12,3,8}\n",
    "print(212 in my_test_Set)\n",
    "print(10 in my_test_Set)"
   ]
  },
  {
   "cell_type": "code",
   "execution_count": 5,
   "metadata": {},
   "outputs": [
    {
     "name": "stdout",
     "output_type": "stream",
     "text": [
      "{1, 2, 3, 4, 5, 6, 7, 8, 9}\n",
      "{4, 5, 6}\n",
      "{4, 5, 6}\n"
     ]
    }
   ],
   "source": [
    "#Mathematical Operations\n",
    "\n",
    "set1 = {1,2,3,4,5,6}\n",
    "set2 = {4,5,6,7,8,9}\n",
    "\n",
    "#Union\n",
    "union_set = set1.union(set2)\n",
    "print(union_set)\n",
    "\n",
    "#Intersection\n",
    "intersection_set = set1.intersection(set2)\n",
    "print(intersection_set)\n",
    "\n",
    "\n",
    "#Intersection Update  -- Do an intersection operation and Update the Original Set\n",
    "set1.intersection_update(set2)\n",
    "print(set1)"
   ]
  },
  {
   "cell_type": "code",
   "execution_count": 7,
   "metadata": {},
   "outputs": [
    {
     "name": "stdout",
     "output_type": "stream",
     "text": [
      "{1, 2, 3}\n",
      "{1, 2, 3, 4, 5, 6}\n",
      "{1, 2, 3}\n"
     ]
    }
   ],
   "source": [
    "#Difference\n",
    "\n",
    "set1 = {1,2,3,4,5,6}\n",
    "set2 = {4,5,6,7,8,9}\n",
    "\n",
    "\n",
    "print(set1.difference(set2))\n",
    "print(set1)\n",
    "\n",
    "set1.difference_update(set2)\n",
    "print(set1)\n"
   ]
  },
  {
   "cell_type": "code",
   "execution_count": 15,
   "metadata": {},
   "outputs": [
    {
     "name": "stdout",
     "output_type": "stream",
     "text": [
      "{2, 3, 7, 8, 9}\n",
      "{2, 3, 7, 8, 9}\n",
      "{4, 6, 7, 8, 9, 26}\n"
     ]
    }
   ],
   "source": [
    "#symmetric difference\n",
    "\n",
    "set1 = {1,2,3,4,5,6}\n",
    "set2 = {1,4,5,6,7,8,9}\n",
    "\n",
    "sym_diff_set = set1.symmetric_difference(set2)\n",
    "print(sym_diff_set)\n",
    "\n",
    "sym_diff_set = set2.symmetric_difference(set1)\n",
    "print(sym_diff_set)\n",
    "\n",
    "\n",
    "set1 = {1,5,26}\n",
    "set2 = {1,4,5,6,7,8,9}\n",
    "\n",
    "set1.symmetric_difference_update(set2)\n",
    "print(set1)\n"
   ]
  },
  {
   "cell_type": "code",
   "execution_count": 18,
   "metadata": {},
   "outputs": [
    {
     "name": "stdout",
     "output_type": "stream",
     "text": [
      "True\n",
      "False\n"
     ]
    }
   ],
   "source": [
    "#Methods for Sets\n",
    "\n",
    "se1 = {1,2,3}\n",
    "se2 = {1,2,3,4,5}\n",
    "\n",
    "print(se1.issubset(se2))\n",
    "print(se1.issuperset(se2))"
   ]
  },
  {
   "cell_type": "code",
   "execution_count": 21,
   "metadata": {},
   "outputs": [
    {
     "name": "stdout",
     "output_type": "stream",
     "text": [
      "Words in the string are ['In', 'this', 'tutorial', 'we', 'are', 'discussing', 'about', 'sets', 'and', 'sets', 'applications']\n",
      "Unique Words in the string are ['we', 'sets', 'tutorial', 'about', 'and', 'this', 'In', 'applications', 'are', 'discussing']\n"
     ]
    }
   ],
   "source": [
    "#Counting Unique Words in text\n",
    "txt = \"In this tutorial we are discussing about sets and sets applications\"\n",
    "w_txt = txt.split(\" \")\n",
    "print(f\"Words in the string are : {w_txt}\")\n",
    "w_unique_txt = list(set(w_txt))\n",
    "print(f\"Unique Words in the string are : {w_unique_txt}\")"
   ]
  },
  {
   "cell_type": "code",
   "execution_count": null,
   "metadata": {},
   "outputs": [],
   "source": []
  }
 ],
 "metadata": {
  "kernelspec": {
   "display_name": "base",
   "language": "python",
   "name": "python3"
  },
  "language_info": {
   "codemirror_mode": {
    "name": "ipython",
    "version": 3
   },
   "file_extension": ".py",
   "mimetype": "text/x-python",
   "name": "python",
   "nbconvert_exporter": "python",
   "pygments_lexer": "ipython3",
   "version": "3.12.4"
  }
 },
 "nbformat": 4,
 "nbformat_minor": 2
}
