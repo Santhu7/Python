{
 "cells": [
  {
   "cell_type": "code",
   "execution_count": 3,
   "metadata": {},
   "outputs": [
    {
     "name": "stdout",
     "output_type": "stream",
     "text": [
      "<class 'dict'>\n",
      "<class 'dict'>\n"
     ]
    }
   ],
   "source": [
    "#Dictionaries are Unordered collections of items, which contain key value pairs\n",
    "#keys should be unique and they are Mutable\n",
    "#keys can be Strings, numbers, tuples\n",
    "#values can be of any data type\n",
    "\n",
    "empty_Dict = {}\n",
    "print(type(empty_Dict))\n",
    "\n",
    "\n",
    "empty_Dict = dict()\n",
    "print(type(empty_Dict))"
   ]
  },
  {
   "cell_type": "code",
   "execution_count": 2,
   "metadata": {},
   "outputs": [
    {
     "name": "stdout",
     "output_type": "stream",
     "text": [
      "{'classNumber': 5, ('student', 'age', 'marks'): ('String', 8, 3.4)}\n",
      "{'name': 'Fusion2', 'age': 23, 'state': 'Mah'}\n"
     ]
    }
   ],
   "source": [
    "classDetails = {'classNumber':5, ('student','age','marks'):('String',8,3.4)}\n",
    "print(classDetails)\n",
    "\n",
    "\n",
    "#same keys -- print the latest value\n",
    "stuDent1 = {\"name\":\"Fusion1\",\"age\":23,\"state\":\"Mah\",\"name\":\"Fusion2\"}\n",
    "print(stuDent1)"
   ]
  },
  {
   "cell_type": "code",
   "execution_count": 9,
   "metadata": {},
   "outputs": [
    {
     "name": "stdout",
     "output_type": "stream",
     "text": [
      "Fusion1\n",
      "A+\n",
      "\n",
      "get method for Dictionary\n",
      "Fusion1\n",
      "A+\n",
      "Not available\n"
     ]
    }
   ],
   "source": [
    "#Accessing Dictionary elements\n",
    "\n",
    "stuDent1 = {\"name\":\"Fusion1\",\"age\":23,\"state\":\"Mah\",\"grade\":\"A+\"}\n",
    "print(stuDent1['name'])\n",
    "print(stuDent1['grade'])\n",
    "#print(stuDent1['rollNUmber']) #We get error since we don't have any such key\n",
    "\n",
    "\n",
    "\n",
    "#Using get method --- Returns the Value for the key that we pass, if there is no such key we will see None as output if no default value is passed as an second argument\n",
    "print()\n",
    "print(\"get method for Dictionary\")\n",
    "print(stuDent1.get('name'))\n",
    "print(stuDent1.get('grade',\"Not available\"))\n",
    "print(stuDent1.get('rollNUmber',\"Not available\"))"
   ]
  },
  {
   "cell_type": "code",
   "execution_count": 15,
   "metadata": {},
   "outputs": [
    {
     "name": "stdout",
     "output_type": "stream",
     "text": [
      "Before Updating/adding/deleting dictionary\n",
      "{'name': 'Fusion1', 'age': 23, 'state': 'Mah', 'grade': 'C', 'rand': 'randomItem', 'rollNumber': 2}\n",
      "\n",
      "After Updating/adding/deleting dictionary\n",
      "{'name': 'Fusion3', 'state': 'Mah', 'grade': 'C', 'rand': 'randomItem'}\n",
      "\n",
      "using pop we can delete a specific Key value pair, popitem will delete the last key value pair in the dictionary\n"
     ]
    }
   ],
   "source": [
    "#Modifying Dictionary elements\n",
    "#Dictionaries are Mutable -- Modify, Add, Delete\n",
    "\n",
    "stuDent2 = {\"name\":\"Fusion1\",\"age\":23,\"state\":\"Mah\",\"grade\":\"C\",\"rand\":\"randomItem\",\"rollNumber\":2}\n",
    "print(\"Before Updating/adding/deleting dictionary\")\n",
    "print(stuDent2)\n",
    "print()\n",
    "\n",
    "stuDent2['name'] = \"Fusion3\"\n",
    "stuDent2['bloodgroup'] = \"B-ve\"\n",
    "stuDent2.pop(\"age\")\n",
    "\n",
    "#Remove the last item from the dictionary\n",
    "stuDent2.popitem()\n",
    "\n",
    "#deleting the key Value pair\n",
    "del stuDent2[\"rollNumber\"]\n",
    "print(\"After Updating/adding/deleting dictionary\")\n",
    "print(stuDent2)\n",
    "print()\n",
    "print(\"using pop we can delete a specific Key value pair, popitem will delete the last key value pair in the dictionary\")"
   ]
  },
  {
   "cell_type": "code",
   "execution_count": 18,
   "metadata": {},
   "outputs": [
    {
     "name": "stdout",
     "output_type": "stream",
     "text": [
      "dict_keys(['name', 'state', 'grade', 'rand'])\n",
      "dict_values(['Fusion3', 'Mah', 'C', 'randomItem'])\n",
      "dict_items([('name', 'Fusion3'), ('state', 'Mah'), ('grade', 'C'), ('rand', 'randomItem')])\n"
     ]
    }
   ],
   "source": [
    "#Methods for Dictionaries\n",
    "\n",
    "print(stuDent2.keys())\n",
    "print(stuDent2.values())\n",
    "print(stuDent2.items())\n",
    "\n"
   ]
  },
  {
   "cell_type": "code",
   "execution_count": 21,
   "metadata": {},
   "outputs": [
    {
     "name": "stdout",
     "output_type": "stream",
     "text": [
      "Original Dict\n",
      "{'name': 'New Name', 'state': 'Mah', 'grade': 'C', 'rand': 'randomItem'}\n",
      "Copied without using shallow copy\n",
      "{'name': 'New Name', 'state': 'Mah', 'grade': 'C', 'rand': 'randomItem'}\n",
      "Without shallow copy \n",
      "With shallow copy\n",
      "Before shallow copy student2\n",
      "{'name': 'New Name', 'state': 'Mah', 'grade': 'C', 'rand': 'randomItem'}\n",
      "\n",
      "\n",
      "After shallow copied Original dictionary\n",
      "{'name': 'Latest name', 'state': 'Mah', 'grade': 'C', 'rand': 'randomItem'}\n",
      "\n",
      "After shallow copy copied function\n",
      "{'name': 'New Name', 'state': 'Mah', 'grade': 'C', 'rand': 'randomItem'}\n",
      "\n",
      "Shallow copy -- the newly copied dictionary using copy function will remain same, original list will get changed\n",
      "Shallow copy provides the different memory location\n"
     ]
    }
   ],
   "source": [
    "\n",
    "print(\"Without shallow copy \")\n",
    "stuDent_cpoy = stuDent2\n",
    "\n",
    "stuDent2[\"name\"] = \"New Name\"\n",
    "\n",
    "print(\"Original Dict\")\n",
    "print(stuDent2)\n",
    "\n",
    "print(\"Copied without using shallow copy\")\n",
    "print(stuDent_cpoy)\n",
    "\n",
    "print()\n",
    "\n",
    "print(\"With shallow copy\")\n",
    "#Shallow copy\n",
    "\n",
    "print(\"Before shallow copy student2\")\n",
    "print(stuDent2)\n",
    "print()\n",
    "stuDent_cpoy1 = stuDent2.copy()\n",
    "stuDent2[\"name\"] = \"Latest name\"\n",
    "print()\n",
    "print(\"After shallow copied Original dictionary\")\n",
    "print(stuDent2)\n",
    "print()\n",
    "print(\"After shallow copy copied function\")\n",
    "print(stuDent_cpoy1)\n",
    "\n",
    "print()\n",
    "print(\"Shallow copy -- the newly copied dictionary using copy function will remain same, original list will get changed\")\n",
    "print(\"Shallow copy provides the different memory location\")"
   ]
  },
  {
   "cell_type": "code",
   "execution_count": 25,
   "metadata": {},
   "outputs": [
    {
     "name": "stdout",
     "output_type": "stream",
     "text": [
      "name state grade rand \n",
      "Latest name Mah C randomItem \n",
      "name:Latest name\n",
      "state:Mah\n",
      "grade:C\n",
      "rand:randomItem\n",
      "\n"
     ]
    }
   ],
   "source": [
    "#Iterating in dictionaries\n",
    "\n",
    "#keys\n",
    "for kys in stuDent2.keys():\n",
    "    print(kys,end = \" \")\n",
    "print()\n",
    "\n",
    "for vls in stuDent2.values():\n",
    "    print(vls,end = \" \")\n",
    "\n",
    "print()\n",
    "\n",
    "for kys,vls in stuDent2.items():\n",
    "    print(f\"{kys}:{vls}\",end=\"\\n\")\n",
    "    \n",
    "print()"
   ]
  },
  {
   "cell_type": "code",
   "execution_count": 26,
   "metadata": {},
   "outputs": [
    {
     "name": "stdout",
     "output_type": "stream",
     "text": [
      "{'std1': {'name': 'name1', 'age': 12}, 'std2': {'name': 'name2', 'age': 22}, 'std3': {'name': 'name3', 'age': 15}}\n"
     ]
    }
   ],
   "source": [
    "#Nested Dictionaries\n",
    "stdDict = {\n",
    "    \"std1\":{\"name\":\"name1\",\"age\":12},\n",
    "    \"std2\":{\"name\":\"name2\",\"age\":22},\n",
    "    \"std3\":{\"name\":\"name3\",\"age\":15},   \n",
    "}\n",
    "print(stdDict)"
   ]
  },
  {
   "cell_type": "code",
   "execution_count": 36,
   "metadata": {},
   "outputs": [
    {
     "name": "stdout",
     "output_type": "stream",
     "text": [
      "22\n"
     ]
    }
   ],
   "source": [
    "#Printing age of student 2\n",
    "print(stdDict[\"std2\"]['age'])\n"
   ]
  },
  {
   "cell_type": "code",
   "execution_count": 40,
   "metadata": {},
   "outputs": [
    {
     "name": "stdout",
     "output_type": "stream",
     "text": [
      "std1 Info---\n",
      "\tname:name1\n",
      "\tage:12\n",
      "\n",
      "std2 Info---\n",
      "\tname:name2\n",
      "\tage:22\n",
      "\n",
      "std3 Info---\n",
      "\tname:name3\n",
      "\tage:15\n",
      "\n"
     ]
    }
   ],
   "source": [
    "#Iterating over Nested Dictionaries\n",
    "for stdE,stdInv in stdDict.items():\n",
    "    print(stdE,end = \" Info---\\n\")\n",
    "    for k,v in stdInv.items():\n",
    "        print(f\"\\t{k}:{v}\")\n",
    "    print()"
   ]
  },
  {
   "cell_type": "code",
   "execution_count": 44,
   "metadata": {},
   "outputs": [
    {
     "name": "stdout",
     "output_type": "stream",
     "text": [
      "{1: 1, 2: 4, 3: 9, 4: 16, 5: 25, 6: 36, 7: 49, 8: 64, 9: 81, 10: 100}\n",
      "{2: 4, 4: 16, 6: 36, 8: 64, 10: 100}\n"
     ]
    }
   ],
   "source": [
    "#Dictionary Comprehension\n",
    "sqrs = {x:x**2 for x in range(1,11)}\n",
    "print(sqrs)\n",
    "\n",
    "\n",
    "#Dictionary Comprehension\n",
    "sqrs_evn = {x:x**2 for x in range(1,11) if x%2==0}\n",
    "print(sqrs_evn)"
   ]
  },
  {
   "cell_type": "code",
   "execution_count": 55,
   "metadata": {},
   "outputs": [
    {
     "name": "stdout",
     "output_type": "stream",
     "text": [
      "{1: 3, 2: 2, 3: 2, 4: 2, 32: 1, 5: 1, 7: 1, 9: 2, 8: 1, 1252: 1}\n"
     ]
    }
   ],
   "source": [
    "#Use a Dictionary to count the frequency of elements in a list\n",
    "\n",
    "nnums = [1,1,2,3,1,4,32,2,4,5,7,9,8,3,1252,9]\n",
    "\n",
    "f_dict = {}\n",
    "for i in nnums:\n",
    "    if i in f_dict.keys():\n",
    "        f_dict[i] = f_dict[i]+1\n",
    "    else:\n",
    "        f_dict.update({i:1})\n",
    "\n",
    "print(f_dict)"
   ]
  },
  {
   "cell_type": "code",
   "execution_count": 57,
   "metadata": {},
   "outputs": [
    {
     "name": "stdout",
     "output_type": "stream",
     "text": [
      "{'a': 1, 'b': 3, 'd': 4}\n"
     ]
    }
   ],
   "source": [
    "#Merge 2 dictionaries into one\n",
    "d1 = {'a':1,'b':2}\n",
    "d2 = {'b':3,'d':4}\n",
    "m_D = {**d1,**d2}\n",
    "print(m_D)"
   ]
  },
  {
   "cell_type": "code",
   "execution_count": null,
   "metadata": {},
   "outputs": [],
   "source": []
  }
 ],
 "metadata": {
  "kernelspec": {
   "display_name": "base",
   "language": "python",
   "name": "python3"
  },
  "language_info": {
   "codemirror_mode": {
    "name": "ipython",
    "version": 3
   },
   "file_extension": ".py",
   "mimetype": "text/x-python",
   "name": "python",
   "nbconvert_exporter": "python",
   "pygments_lexer": "ipython3",
   "version": "3.12.4"
  }
 },
 "nbformat": 4,
 "nbformat_minor": 2
}
