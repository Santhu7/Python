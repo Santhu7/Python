{
 "cells": [
  {
   "cell_type": "code",
   "execution_count": 6,
   "metadata": {},
   "outputs": [
    {
     "name": "stdout",
     "output_type": "stream",
     "text": [
      "NUmber 45 is 'Odd'\n"
     ]
    }
   ],
   "source": [
    "#Function is a block of code which performs specific task, we can re-use and improve readability\n",
    "\n",
    "#syntax\n",
    "def function_name(parameters):\n",
    "    \"\"\"Doc String\"\"\"\n",
    "    #Function body\n",
    "    return expression\n",
    "\n",
    "\n",
    "#check odd or even\n",
    "\n",
    "def oddOrEven(num):\n",
    "    \"\"\"This Function return entered number is if Even or Odd\"\"\"\n",
    "    if num%2 == 0:\n",
    "        print(f\"NUmber {num} is 'Even'\")\n",
    "    else:\n",
    "        print(f\"NUmber {num} is 'Odd'\")\n",
    "n = int(input(\"Enter any Positive number\"))\n",
    "oddOrEven(n)"
   ]
  },
  {
   "cell_type": "code",
   "execution_count": 9,
   "metadata": {},
   "outputs": [
    {
     "name": "stdout",
     "output_type": "stream",
     "text": [
      "Basic Caluculator\n",
      "\n",
      "Wrong Choice\n",
      "esf of 3 and 2 is None\n"
     ]
    }
   ],
   "source": [
    "#Function with Multiple parameters\n",
    "\n",
    "def basicCaluculator(num1,num2,choice):\n",
    "    if choice.lower() == 'addition':\n",
    "        s = num1+num2\n",
    "    elif choice.lower() == 'substraction':\n",
    "        s = num1-num2\n",
    "    elif choice.lower() == 'multiplication':\n",
    "        s = num1*num2\n",
    "    elif choice.lower() == 'division':\n",
    "        s = num1/num2\n",
    "    else:\n",
    "        print(\"Wrong Choice\")\n",
    "        s = None\n",
    "    return s\n",
    "\n",
    "print(\"Basic Caluculator\")\n",
    "print()\n",
    "choice = input(\"Enter You choice from Below Options\\nAddition\\nSubstraction\\nmultiplication\\nDivision\")\n",
    "n1 = int(input(\"Enter NUmber 1\"))\n",
    "n2 = int(input(\"Enter NUmber 2\"))\n",
    "res = basicCaluculator(n1,n2,choice)\n",
    "print(f\"{choice} of {n1} and {n2} is {res}\")\n"
   ]
  },
  {
   "cell_type": "code",
   "execution_count": 12,
   "metadata": {},
   "outputs": [
    {
     "name": "stdout",
     "output_type": "stream",
     "text": [
      "Hello dear Santhosh\n",
      "Have a great Day...!!\n",
      "\n",
      "Hello dear Valuable Customer\n",
      "Have a great Day...!!\n"
     ]
    }
   ],
   "source": [
    "#default parameters\n",
    "\n",
    "def greeting(customer = \"Valuable Customer\"):\n",
    "    print(f\"Hello dear {customer}\\nHave a great Day...!!\")\n",
    "\n",
    "greeting(\"Santhosh\")\n",
    "print()\n",
    "greeting()"
   ]
  },
  {
   "cell_type": "code",
   "execution_count": 13,
   "metadata": {},
   "outputs": [
    {
     "name": "stdout",
     "output_type": "stream",
     "text": [
      "1\n",
      "2\n",
      "3\n",
      "hi\n",
      "2\n",
      "2\n",
      "3\n",
      "True\n"
     ]
    }
   ],
   "source": [
    "#Variable Length Arguments\n",
    "#Positional and Keyword Arguments\n",
    "\n",
    "\n",
    "def positionalArguments(*args):\n",
    "    for i in args:\n",
    "        print(f\"{i}\")\n",
    "\n",
    "positionalArguments(1,2,3,\"hi\",2,2,3,True)"
   ]
  },
  {
   "cell_type": "code",
   "execution_count": 14,
   "metadata": {},
   "outputs": [
    {
     "name": "stdout",
     "output_type": "stream",
     "text": [
      "first - 4\n",
      "person - greet\n"
     ]
    }
   ],
   "source": [
    "def keyWordArguments(**kwargs):\n",
    "    for key,value in kwargs.items():\n",
    "        print(f\"{key} - {value}\")\n",
    "\n",
    "keyWordArguments(first='4',person='greet')"
   ]
  },
  {
   "cell_type": "code",
   "execution_count": 15,
   "metadata": {},
   "outputs": [
    {
     "name": "stdout",
     "output_type": "stream",
     "text": [
      "name - Santhosh\n",
      "company - Recykal\n",
      "age - 23\n",
      "\n",
      "12\n",
      "312\n",
      "fhi\n",
      "dasb\n",
      "True\n"
     ]
    }
   ],
   "source": [
    "def bothPositionalArgsAndKeyWordArgs(*args,**kwargs):\n",
    "    for key,value in kwargs.items():\n",
    "        print(f\"{key} - {value}\")\n",
    "    print()\n",
    "    for i in args:\n",
    "        print(f\"{i}\")\n",
    "\n",
    "bothPositionalArgsAndKeyWordArgs(12,312,\"fhi\",\"dasb\",True,name=\"Santhosh\",company=\"Recykal\",age = 23)"
   ]
  },
  {
   "cell_type": "code",
   "execution_count": 18,
   "metadata": {},
   "outputs": [
    {
     "name": "stdout",
     "output_type": "stream",
     "text": [
      "Entered a is not in the required format\n",
      "None\n"
     ]
    }
   ],
   "source": [
    "#Temperature Conversion\n",
    "def temp_conversion(temp,unit):\n",
    "    \"\"\"This Function converts F/C to C/F\"\"\"\n",
    "    if unit.lower() == 'f':\n",
    "        t = (temp- 32*(5/9))\n",
    "    elif unit.lower() == 'c':\n",
    "        t = (temp*(9/5)) + 32\n",
    "    else:\n",
    "        print(f\"Entered '{unit}' is not in the required format\")\n",
    "        t = None\n",
    "    return t\n",
    "\n",
    "un = input(\"Enter to which Unit you want to convert the temperature  1.F or 2.C\")\n",
    "te = int(input(\"Enter the temperature : \"))\n",
    "print(temp_conversion(te,un))\n",
    "\n"
   ]
  },
  {
   "cell_type": "code",
   "execution_count": null,
   "metadata": {},
   "outputs": [],
   "source": []
  }
 ],
 "metadata": {
  "kernelspec": {
   "display_name": "base",
   "language": "python",
   "name": "python3"
  },
  "language_info": {
   "codemirror_mode": {
    "name": "ipython",
    "version": 3
   },
   "file_extension": ".py",
   "mimetype": "text/x-python",
   "name": "python",
   "nbconvert_exporter": "python",
   "pygments_lexer": "ipython3",
   "version": "3.12.4"
  }
 },
 "nbformat": 4,
 "nbformat_minor": 2
}
