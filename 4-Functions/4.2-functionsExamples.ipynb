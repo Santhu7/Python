{
 "cells": [
  {
   "cell_type": "code",
   "execution_count": null,
   "metadata": {},
   "outputs": [],
   "source": [
    "#Temperature Conversion\n",
    "def temp_conversion(temp,unit):\n",
    "    \"\"\"This Function converts F/C to C/F\"\"\"\n",
    "    if unit.lower() == 'f':\n",
    "        t = (temp- 32*(5/9))\n",
    "    elif unit.lower() == 'c':\n",
    "        t = (temp*(9/5)) + 32\n",
    "    else:\n",
    "        print(f\"Entered '{unit}' is not in the required format\")\n",
    "        t = None\n",
    "    return t\n",
    "\n",
    "un = input(\"Enter to which Unit you want to convert the temperature  1.F or 2.C\")\n",
    "te = int(input(\"Enter the temperature : \"))\n",
    "print(temp_conversion(te,un))\n",
    "\n"
   ]
  },
  {
   "cell_type": "code",
   "execution_count": 8,
   "metadata": {},
   "outputs": [
    {
     "name": "stdout",
     "output_type": "stream",
     "text": [
      "weak password\n"
     ]
    }
   ],
   "source": [
    "#Password Strength\n",
    "def pswdStrength(password):\n",
    "    \"\"\"this checks if the entered password is strong or not\"\"\"\n",
    "    isStrong = False\n",
    "    if len(password)>=8:\n",
    "        isStrong = True\n",
    "    if (i.isdigit() for i in password):\n",
    "        isStrong = False\n",
    "    if (i.islower()for i in password):\n",
    "        isStrong = False\n",
    "    if (i.isupper() for i in password):\n",
    "        isStrong = False\n",
    "    if not (i in '!@#$%&* ' for i in password):\n",
    "        isStrong = False\n",
    "    return isStrong\n",
    "\n",
    "if pswdStrength(\"12345678aA\"):\n",
    "    print(\"Strong password\")\n",
    "else:\n",
    "    print(\"weak password\")"
   ]
  },
  {
   "cell_type": "code",
   "execution_count": 4,
   "metadata": {},
   "outputs": [
    {
     "name": "stdout",
     "output_type": "stream",
     "text": [
      "Total Price of apple Banana Orange Grape is 3460.5\n"
     ]
    }
   ],
   "source": [
    "#Total value of items in the cart\n",
    "def sumTotalCartItems(cart):\n",
    "    totalSum = 0\n",
    "    itemsNames = ''\n",
    "    for item in cart:\n",
    "        totalSum = totalSum + item['price']*item['quantity']\n",
    "        itemsNames = itemsNames+' '+ item['name']\n",
    "    return totalSum,itemsNames\n",
    "\n",
    "\n",
    "cart = [\n",
    "    {'name':\"apple\",'price':33,'quantity':4},\n",
    "    {'name':\"Banana\",'price':4.56,'quantity':10},\n",
    "    {'name':\"Orange\",'price':32.3,'quantity':15},\n",
    "    {'name':\"Grape\",'price':21.2,'quantity':132}\n",
    "]\n",
    "\n",
    "s= sumTotalCartItems(cart)\n",
    "print(f\"Total Price of{s[1]} is {s[0]}\")"
   ]
  },
  {
   "cell_type": "code",
   "execution_count": 11,
   "metadata": {},
   "outputs": [
    {
     "name": "stdout",
     "output_type": "stream",
     "text": [
      "'adab' is NOT a Plaindrome\n",
      "palindrome\n"
     ]
    }
   ],
   "source": [
    "#Check given string is palindrome or not\n",
    "def checkPalindrome(strInput):\n",
    "    ls = []\n",
    "    p = len(strInput)-1\n",
    "    for x in range(len(strInput)):\n",
    "        ls.append(strInput[p])\n",
    "        p-=1\n",
    "    revStr = ''.join(ls)\n",
    "    if revStr == strInput:\n",
    "        print(f'\\'{strInput}\\' is a Plaindrome')\n",
    "    else:\n",
    "        print(f'\\'{strInput}\\' is NOT a Plaindrome')\n",
    "\n",
    "def checkPalindromeShort(s):\n",
    "    s = s.lower().replace(\" \",\",\")\n",
    "    return s==s[::-1]\n",
    "\n",
    "checkPalindrome('adab')\n",
    "o = checkPalindromeShort('ada')\n",
    "if o:\n",
    "    print('palindrome')\n",
    "else:\n",
    "    print(\"Not a palindrome\")\n"
   ]
  },
  {
   "cell_type": "code",
   "execution_count": 13,
   "metadata": {},
   "outputs": [
    {
     "data": {
      "text/plain": [
       "24"
      ]
     },
     "execution_count": 13,
     "metadata": {},
     "output_type": "execute_result"
    }
   ],
   "source": [
    "#Factorial of a number using recursion\n",
    "\n",
    "def factNum(num):\n",
    "    if num ==1:\n",
    "        return 1\n",
    "    else:\n",
    "        fact = factNum(num-1) * num\n",
    "    return fact\n",
    "\n",
    "factNum(4)"
   ]
  },
  {
   "cell_type": "code",
   "execution_count": 14,
   "metadata": {},
   "outputs": [],
   "source": [
    "#Write a function to read a file and count the frequency of words in the text file\n"
   ]
  },
  {
   "cell_type": "code",
   "execution_count": null,
   "metadata": {},
   "outputs": [],
   "source": [
    "#Email validation"
   ]
  }
 ],
 "metadata": {
  "kernelspec": {
   "display_name": "base",
   "language": "python",
   "name": "python3"
  },
  "language_info": {
   "codemirror_mode": {
    "name": "ipython",
    "version": 3
   },
   "file_extension": ".py",
   "mimetype": "text/x-python",
   "name": "python",
   "nbconvert_exporter": "python",
   "pygments_lexer": "ipython3",
   "version": "3.12.4"
  }
 },
 "nbformat": 4,
 "nbformat_minor": 2
}
