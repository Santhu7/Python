{
 "cells": [
  {
   "cell_type": "code",
   "execution_count": 6,
   "metadata": {},
   "outputs": [
    {
     "name": "stdout",
     "output_type": "stream",
     "text": [
      "[4, 9, 1, 16, 25, 4]\n"
     ]
    }
   ],
   "source": [
    "#map function -- applies a given function to all items in an input and return a map object\n",
    "\n",
    "#syntax\n",
    "\n",
    "#map(function,iterable)\n",
    "\n",
    "\n",
    "def squares(num):\n",
    "    return num**2\n",
    "\n",
    "numList = [2,3,1,4,5,2]\n",
    "\n",
    "print(list(map(squares,numList)))"
   ]
  },
  {
   "cell_type": "code",
   "execution_count": 12,
   "metadata": {},
   "outputs": [
    {
     "name": "stdout",
     "output_type": "stream",
     "text": [
      "[4, 9, 1, 16, 25, 4]\n"
     ]
    }
   ],
   "source": [
    "#lambda with map\n",
    "\n",
    "print(list(map((lambda x:x**2),numList)))"
   ]
  },
  {
   "cell_type": "code",
   "execution_count": 13,
   "metadata": {},
   "outputs": [
    {
     "name": "stdout",
     "output_type": "stream",
     "text": [
      "[5, 7, 9, 12]\n"
     ]
    }
   ],
   "source": [
    "#map -- multiple iterables\n",
    "num1 = [1,2,3,4]\n",
    "num2 = [4,5,6,8]\n",
    "\n",
    "#add elements in list1 and list2\n",
    "\n",
    "print(list(map(lambda x,y:x+y, num1,num2)))"
   ]
  },
  {
   "cell_type": "code",
   "execution_count": 1,
   "metadata": {},
   "outputs": [
    {
     "name": "stdout",
     "output_type": "stream",
     "text": [
      "[1, 2, 21, 33, 44]\n"
     ]
    }
   ],
   "source": [
    "#Convert list of string to integers using map\n",
    "str_nums = ['1','2','21','33','44']\n",
    "\n",
    "int_nums  = list(map(lambda x:int(x),str_nums))\n",
    "print(int_nums)"
   ]
  },
  {
   "cell_type": "code",
   "execution_count": 4,
   "metadata": {},
   "outputs": [
    {
     "name": "stdout",
     "output_type": "stream",
     "text": [
      "['APPLE', 'BANANA', 'TEA2', '21']\n"
     ]
    }
   ],
   "source": [
    "#convert to uppercase for the items in the list of strings\n",
    "w = ['apple','banana','teA2','21']\n",
    "#w_upper = list(map(lambda x:x.upper(),w))\n",
    "w_upper = list(map(str.upper,w))\n",
    "print(w_upper)"
   ]
  },
  {
   "cell_type": "code",
   "execution_count": null,
   "metadata": {},
   "outputs": [],
   "source": []
  }
 ],
 "metadata": {
  "kernelspec": {
   "display_name": "base",
   "language": "python",
   "name": "python3"
  },
  "language_info": {
   "codemirror_mode": {
    "name": "ipython",
    "version": 3
   },
   "file_extension": ".py",
   "mimetype": "text/x-python",
   "name": "python",
   "nbconvert_exporter": "python",
   "pygments_lexer": "ipython3",
   "version": "3.12.4"
  }
 },
 "nbformat": 4,
 "nbformat_minor": 2
}
