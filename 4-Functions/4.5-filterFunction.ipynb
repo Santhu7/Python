{
 "cells": [
  {
   "cell_type": "code",
   "execution_count": 2,
   "metadata": {},
   "outputs": [
    {
     "name": "stdout",
     "output_type": "stream",
     "text": [
      "[2, 4, 154, 2, 34, 54, 34, 6778, 432]\n"
     ]
    }
   ],
   "source": [
    "#Filter\n",
    "\n",
    "#Filter function constructs and iterator from elements of an iterator for which a function returns true.\n",
    "\n",
    "\n",
    "def evenOnly(num):\n",
    "    isEven = False\n",
    "    if num%2==0:\n",
    "        isEven = True\n",
    "    return isEven\n",
    "\n",
    "nums = [1,2,4,49,154,7,87,89,2,321,21,34,54,34,65,6778,432]\n",
    "\n",
    "print(list(filter(evenOnly,nums)))"
   ]
  },
  {
   "cell_type": "code",
   "execution_count": 5,
   "metadata": {},
   "outputs": [
    {
     "name": "stdout",
     "output_type": "stream",
     "text": [
      "[45, 765, 35, 45, 90, 810]\n"
     ]
    }
   ],
   "source": [
    "nums1 = [12,23,4,32,45,64,3,32,67,765,35,23,45,78,90,810]\n",
    "\n",
    "nums1_divisible_by_5 = list(filter(lambda x:x%5==0 , nums1))\n",
    "print(nums1_divisible_by_5)"
   ]
  },
  {
   "cell_type": "code",
   "execution_count": 6,
   "metadata": {},
   "outputs": [
    {
     "name": "stdout",
     "output_type": "stream",
     "text": [
      "[45, 765, 45]\n"
     ]
    }
   ],
   "source": [
    "#multiple conditions\n",
    "nums2 = [12,23,4,32,45,64,3,32,67,765,35,23,45,78,90,810]\n",
    "nums2_odd_divisible_by_9 = list(filter(lambda x:x%2==1 and x%9==0, nums2))\n",
    "print(nums2_odd_divisible_by_9)"
   ]
  },
  {
   "cell_type": "code",
   "execution_count": 9,
   "metadata": {},
   "outputs": [
    {
     "data": {
      "text/plain": [
       "[{'name': 'john', 'age': 34},\n",
       " {'name': 'wood', 'age': 38},\n",
       " {'name': 'livingStone', 'age': 98},\n",
       " {'name': 'chris', 'age': 28}]"
      ]
     },
     "execution_count": 9,
     "metadata": {},
     "output_type": "execute_result"
    }
   ],
   "source": [
    "#get all the key value pairs in which age is greater than 20\n",
    "d1 = [\n",
    "    {'name':'john','age':34},\n",
    "    {'name':'tom','age':20},\n",
    "    {'name':'lantham','age':14},\n",
    "    {'name':'wood','age':38},\n",
    "    {'name':'livingStone','age':98},\n",
    "    {'name':'chris','age':28}\n",
    "    ]\n",
    "\n",
    "\n",
    "def ageGreaterThan20(d1):\n",
    "    return d1['age']>20\n",
    "\n",
    "\n",
    "list(filter(ageGreaterThan20,d1))\n"
   ]
  },
  {
   "cell_type": "code",
   "execution_count": null,
   "metadata": {},
   "outputs": [],
   "source": []
  }
 ],
 "metadata": {
  "kernelspec": {
   "display_name": "base",
   "language": "python",
   "name": "python3"
  },
  "language_info": {
   "codemirror_mode": {
    "name": "ipython",
    "version": 3
   },
   "file_extension": ".py",
   "mimetype": "text/x-python",
   "name": "python",
   "nbconvert_exporter": "python",
   "pygments_lexer": "ipython3",
   "version": "3.12.4"
  }
 },
 "nbformat": 4,
 "nbformat_minor": 2
}
