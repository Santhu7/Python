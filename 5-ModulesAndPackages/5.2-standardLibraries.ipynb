{
 "cells": [
  {
   "cell_type": "code",
   "execution_count": 6,
   "metadata": {},
   "outputs": [
    {
     "name": "stdout",
     "output_type": "stream",
     "text": [
      "<class 'array.array'>\n",
      "array('i', [2, 3, 4, 2])\n"
     ]
    }
   ],
   "source": [
    "import array\n",
    "\n",
    "arr = array.array('i',[2,3,4,2])\n",
    "print(type(arr))\n",
    "print(arr)"
   ]
  },
  {
   "cell_type": "code",
   "execution_count": 7,
   "metadata": {},
   "outputs": [
    {
     "data": {
      "text/plain": [
       "9.0"
      ]
     },
     "execution_count": 7,
     "metadata": {},
     "output_type": "execute_result"
    }
   ],
   "source": [
    "import math\n",
    "math.sqrt(81)"
   ]
  },
  {
   "cell_type": "code",
   "execution_count": 9,
   "metadata": {},
   "outputs": [
    {
     "name": "stdout",
     "output_type": "stream",
     "text": [
      "36\n",
      "7\n"
     ]
    }
   ],
   "source": [
    "import random\n",
    "print(random.randint(23,45))\n",
    "print(random.choice([3,2,4,5,6,7,1,22]))"
   ]
  },
  {
   "cell_type": "code",
   "execution_count": 12,
   "metadata": {},
   "outputs": [
    {
     "name": "stdout",
     "output_type": "stream",
     "text": [
      "d:\\learnings\\python\\5-ModulesAndPackages\n"
     ]
    }
   ],
   "source": [
    "import os\n",
    "print(os.getcwd())\n",
    "\n",
    "#os.mkdir('testDir')\n"
   ]
  },
  {
   "cell_type": "code",
   "execution_count": 2,
   "metadata": {},
   "outputs": [
    {
     "data": {
      "text/plain": [
       "'destination.txt'"
      ]
     },
     "execution_count": 2,
     "metadata": {},
     "output_type": "execute_result"
    }
   ],
   "source": [
    "import shutil\n",
    "shutil.copyfile('source.txt','destination.txt')"
   ]
  },
  {
   "cell_type": "code",
   "execution_count": 5,
   "metadata": {},
   "outputs": [
    {
     "name": "stdout",
     "output_type": "stream",
     "text": [
      "<class 'str'>\n",
      "{\"name\": \"Brand Name\", \"gstin\": true}\n",
      "<class 'dict'>\n",
      "{'name': 'Brand Name', 'gstin': True}\n"
     ]
    }
   ],
   "source": [
    "#Data Serialization\n",
    "import json\n",
    "\n",
    "data1 = {'name':'Brand Name','gstin':True}\n",
    "\n",
    "#for converting dictionary to json use dumps\n",
    "\n",
    "data1JsonStr = json.dumps(data1)\n",
    "print(type(data1JsonStr))\n",
    "print(data1JsonStr)\n",
    "\n",
    "\n",
    "#convert json str to dictionary use json loads\n",
    "\n",
    "jsonStrToDict = json.loads(data1JsonStr)\n",
    "print(type(jsonStrToDict))\n",
    "print(jsonStrToDict)"
   ]
  },
  {
   "cell_type": "code",
   "execution_count": 10,
   "metadata": {},
   "outputs": [
    {
     "name": "stdout",
     "output_type": "stream",
     "text": [
      "['Name', 'Age']\n",
      "['Santhosh', '34']\n",
      "['Ceat Tyres', '12']\n"
     ]
    }
   ],
   "source": [
    "#csv operations\n",
    "import csv\n",
    "\n",
    "with open('sample.csv',mode='w',newline='') as file:\n",
    "    writer = csv.writer(file)\n",
    "    writer.writerow(['Name','Age'])\n",
    "    writer.writerow(['Santhosh',34])\n",
    "    writer.writerow(['Ceat Tyres',12])\n",
    "\n",
    "with open('sample.csv',mode='r') as file:\n",
    "    read = csv.reader(file)\n",
    "    for rows in read:\n",
    "        print(rows)\n",
    "\n"
   ]
  },
  {
   "cell_type": "code",
   "execution_count": 11,
   "metadata": {},
   "outputs": [
    {
     "name": "stdout",
     "output_type": "stream",
     "text": [
      "2024-10-15 15:01:34.057213\n",
      "2024-10-14 15:01:34.057213\n"
     ]
    }
   ],
   "source": [
    "#datetime module\n",
    "from datetime import datetime,timedelta\n",
    "\n",
    "currentTime = datetime.now()\n",
    "print(currentTime)\n",
    "\n",
    "oneDayBack = currentTime - timedelta(days=1)\n",
    "print(oneDayBack)"
   ]
  },
  {
   "cell_type": "code",
   "execution_count": 12,
   "metadata": {},
   "outputs": [
    {
     "name": "stdout",
     "output_type": "stream",
     "text": [
      "1728984746.578066\n",
      "1728984748.5794594\n"
     ]
    }
   ],
   "source": [
    "# time module\n",
    "\n",
    "import time\n",
    "\n",
    "print(time.time())\n",
    "time.sleep(2)\n",
    "print(time.time())"
   ]
  },
  {
   "cell_type": "code",
   "execution_count": null,
   "metadata": {},
   "outputs": [],
   "source": [
    "#Regular expression\n",
    "import re\n",
    "\n",
    "\n"
   ]
  }
 ],
 "metadata": {
  "kernelspec": {
   "display_name": "base",
   "language": "python",
   "name": "python3"
  },
  "language_info": {
   "codemirror_mode": {
    "name": "ipython",
    "version": 3
   },
   "file_extension": ".py",
   "mimetype": "text/x-python",
   "name": "python",
   "nbconvert_exporter": "python",
   "pygments_lexer": "ipython3",
   "version": "3.12.4"
  }
 },
 "nbformat": 4,
 "nbformat_minor": 2
}
