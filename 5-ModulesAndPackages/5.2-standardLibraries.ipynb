{
 "cells": [
  {
   "cell_type": "code",
   "execution_count": 6,
   "metadata": {},
   "outputs": [
    {
     "name": "stdout",
     "output_type": "stream",
     "text": [
      "<class 'array.array'>\n",
      "array('i', [2, 3, 4, 2])\n"
     ]
    }
   ],
   "source": [
    "import array\n",
    "\n",
    "arr = array.array('i',[2,3,4,2])\n",
    "print(type(arr))\n",
    "print(arr)"
   ]
  },
  {
   "cell_type": "code",
   "execution_count": 7,
   "metadata": {},
   "outputs": [
    {
     "data": {
      "text/plain": [
       "9.0"
      ]
     },
     "execution_count": 7,
     "metadata": {},
     "output_type": "execute_result"
    }
   ],
   "source": [
    "import math\n",
    "math.sqrt(81)"
   ]
  },
  {
   "cell_type": "code",
   "execution_count": 9,
   "metadata": {},
   "outputs": [
    {
     "name": "stdout",
     "output_type": "stream",
     "text": [
      "36\n",
      "7\n"
     ]
    }
   ],
   "source": [
    "import random\n",
    "print(random.randint(23,45))\n",
    "print(random.choice([3,2,4,5,6,7,1,22]))"
   ]
  },
  {
   "cell_type": "code",
   "execution_count": 12,
   "metadata": {},
   "outputs": [
    {
     "name": "stdout",
     "output_type": "stream",
     "text": [
      "d:\\learnings\\python\\5-ModulesAndPackages\n"
     ]
    }
   ],
   "source": [
    "import os\n",
    "print(os.getcwd())\n",
    "\n",
    "#os.mkdir('testDir')\n"
   ]
  },
  {
   "cell_type": "code",
   "execution_count": 2,
   "metadata": {},
   "outputs": [
    {
     "data": {
      "text/plain": [
       "'destination.txt'"
      ]
     },
     "execution_count": 2,
     "metadata": {},
     "output_type": "execute_result"
    }
   ],
   "source": [
    "import shutil\n",
    "shutil.copyfile('source.txt','destination.txt')"
   ]
  },
  {
   "cell_type": "code",
   "execution_count": 5,
   "metadata": {},
   "outputs": [
    {
     "name": "stdout",
     "output_type": "stream",
     "text": [
      "<class 'str'>\n",
      "{\"name\": \"Brand Name\", \"gstin\": true}\n",
      "<class 'dict'>\n",
      "{'name': 'Brand Name', 'gstin': True}\n"
     ]
    }
   ],
   "source": [
    "#Data Serialization\n",
    "import json\n",
    "\n",
    "data1 = {'name':'Brand Name','gstin':True}\n",
    "\n",
    "#for converting dictionary to json use dumps\n",
    "\n",
    "data1JsonStr = json.dumps(data1)\n",
    "print(type(data1JsonStr))\n",
    "print(data1JsonStr)\n",
    "\n",
    "\n",
    "#convert json str to dictionary use json loads\n",
    "\n",
    "jsonStrToDict = json.loads(data1JsonStr)\n",
    "print(type(jsonStrToDict))\n",
    "print(jsonStrToDict)"
   ]
  },
  {
   "cell_type": "code",
   "execution_count": null,
   "metadata": {},
   "outputs": [],
   "source": []
  }
 ],
 "metadata": {
  "kernelspec": {
   "display_name": "base",
   "language": "python",
   "name": "python3"
  },
  "language_info": {
   "codemirror_mode": {
    "name": "ipython",
    "version": 3
   },
   "file_extension": ".py",
   "mimetype": "text/x-python",
   "name": "python",
   "nbconvert_exporter": "python",
   "pygments_lexer": "ipython3",
   "version": "3.12.4"
  }
 },
 "nbformat": 4,
 "nbformat_minor": 2
}
