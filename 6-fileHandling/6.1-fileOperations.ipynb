{
 "cells": [
  {
   "cell_type": "code",
   "execution_count": 23,
   "metadata": {},
   "outputs": [],
   "source": [
    "#reading files, writing into files (both text and binary files)\n",
    "\n",
    "#Modes --- read, write, append,create\n",
    "\n",
    "# 'r' -- read --- Opens a file in to read it, if file doesn't exists throws an error\n",
    "# 'w' -- read --- Opens a file in to write in it, if file doesn't exists creates the file -- if there is any content already exists, content gets over written\n",
    "# 'a' -- read --- Opens a file in to append in it, if file doesn't exists creates the file\n",
    "# 'x' -- read --- creates a file, if file already exists throws an error\n",
    "\n",
    "\n",
    "\n",
    "wr = open('file1.txt',mode = 'w')\n",
    "wr.write(\"HI there...!\\nThis is an example for creating a file\\nAlso in futre we will be reading the same file too\")\n",
    "wr.close()"
   ]
  },
  {
   "cell_type": "code",
   "execution_count": 24,
   "metadata": {},
   "outputs": [
    {
     "name": "stdout",
     "output_type": "stream",
     "text": [
      "HI there...!\n",
      "This is an example for creating a file\n",
      "Also in futre we will be reading the same file too\n"
     ]
    }
   ],
   "source": [
    "with open('file1.txt','r') as file:\n",
    "    context = file.read()\n",
    "    print(context)"
   ]
  },
  {
   "cell_type": "code",
   "execution_count": 25,
   "metadata": {},
   "outputs": [
    {
     "name": "stdout",
     "output_type": "stream",
     "text": [
      "HI there...!\n",
      "This is an example for creating a file\n",
      "Also in futre we will be reading the same file too\n"
     ]
    }
   ],
   "source": [
    "with open('file1.txt', 'r') as fileRead:\n",
    "    for lines in fileRead:\n",
    "        print(lines.strip('\\n'))"
   ]
  },
  {
   "cell_type": "code",
   "execution_count": 26,
   "metadata": {},
   "outputs": [
    {
     "name": "stdout",
     "output_type": "stream",
     "text": [
      "If we open file in 'w' mode, if there is any existing data in the file, existing data will get wiped off\n",
      "\n",
      "\n",
      "Hello\n",
      "Re-written this file content by opening in 'w' mode\n",
      "Second line after opening the file\n"
     ]
    }
   ],
   "source": [
    "#Write into the file using in 'w' mode\n",
    "\n",
    "print(\"If we open file in 'w' mode, if there is any existing data in the file, existing data will get wiped off\")\n",
    "\n",
    "print(\"\\n\")\n",
    "with open('file1.txt','w') as file:\n",
    "    file.write(\"Hello\\nRe-written this file content by opening in 'w' mode\")\n",
    "    file.write(\"\\nSecond line after opening the file\")\n",
    "    file.close()\n",
    "\n",
    "with open('file1.txt','r') as file:\n",
    "    content = file.read()\n",
    "    print(content)\n",
    "\n"
   ]
  },
  {
   "cell_type": "code",
   "execution_count": 27,
   "metadata": {},
   "outputs": [
    {
     "name": "stdout",
     "output_type": "stream",
     "text": [
      "If we open file in 'a' mode, if there is any existing data in the file, newly written data will get add to that\n",
      "\n",
      "\n",
      "Hello\n",
      "Re-written this file content by opening in 'w' mode\n",
      "Second line after opening the file\n",
      "Opened the file using 'a' mode\n",
      "Writing data in the file using 'a' mode\n",
      "Guess all the data was there\n"
     ]
    }
   ],
   "source": [
    "#Write into the file using in 'a' mode\n",
    "\n",
    "print(\"If we open file in 'a' mode, if there is any existing data in the file, newly written data will get add to that\")\n",
    "\n",
    "print(\"\\n\")\n",
    "with open('file1.txt','a') as file:\n",
    "    file.write(\"\\nOpened the file using 'a' mode\")\n",
    "    file.write(\"\\nWriting data in the file using 'a' mode\")\n",
    "    file.write(\"\\nGuess all the data was there\")\n",
    "    file.close()\n",
    "\n",
    "with open('file1.txt','r') as file:\n",
    "    content = file.read()\n",
    "    print(content)\n",
    "\n"
   ]
  },
  {
   "cell_type": "code",
   "execution_count": 30,
   "metadata": {},
   "outputs": [
    {
     "name": "stdout",
     "output_type": "stream",
     "text": [
      "writing multiple lines at a time\n",
      "first line\n",
      "second line\n",
      "third line\n",
      "fourth line\n",
      "\n"
     ]
    }
   ],
   "source": [
    "#writing multiple lines at a time\n",
    "multiLines = ['first line\\n','second line\\n','third line\\n','fourth line\\n']\n",
    "print(\"writing multiple lines at a time\")\n",
    "\n",
    "with open(\"file2.txt\",'w') as file:\n",
    "    file.writelines(multiLines)\n",
    "\n",
    "with open('file2.txt','r') as file:\n",
    "    content = file.read()\n",
    "    print(content)"
   ]
  },
  {
   "cell_type": "code",
   "execution_count": null,
   "metadata": {},
   "outputs": [],
   "source": [
    "#Read a text file and count number of lines, words and characters in the file\n",
    "\n",
    "def scrapTextFile(filePath):\n",
    "    nLines,nWords,nChars = 0,0,0\n",
    "    with open(filePath,'r') as file:\n",
    "        pass\n",
    "    return nLines,nWords,nChars\n",
    "\n"
   ]
  }
 ],
 "metadata": {
  "kernelspec": {
   "display_name": "base",
   "language": "python",
   "name": "python3"
  },
  "language_info": {
   "codemirror_mode": {
    "name": "ipython",
    "version": 3
   },
   "file_extension": ".py",
   "mimetype": "text/x-python",
   "name": "python",
   "nbconvert_exporter": "python",
   "pygments_lexer": "ipython3",
   "version": "3.12.4"
  }
 },
 "nbformat": 4,
 "nbformat_minor": 2
}
