{
 "cells": [
  {
   "cell_type": "code",
   "execution_count": null,
   "metadata": {},
   "outputs": [],
   "source": [
    "import os\n",
    "print(\"Current working Directory Path is \",os.getcwd())\n",
    "\n",
    "#To get all the attributes and functions that we can use using the os module\n",
    "print(dir(os))"
   ]
  },
  {
   "cell_type": "code",
   "execution_count": null,
   "metadata": {},
   "outputs": [],
   "source": [
    "#Creating a new directory\n",
    "directoryName = input(\"Enter the directory Name : \")\n",
    "os.mkdir(directoryName)\n",
    "print(f\"Directory '{directoryName}' got created\")"
   ]
  },
  {
   "cell_type": "code",
   "execution_count": null,
   "metadata": {},
   "outputs": [],
   "source": [
    "#listing all files and directories\n",
    "items = os.listdir('.') #'.' is for pointing the cwd\n",
    "print(items)"
   ]
  },
  {
   "cell_type": "code",
   "execution_count": null,
   "metadata": {},
   "outputs": [],
   "source": [
    "#Joining the paths\n",
    "\n"
   ]
  },
  {
   "cell_type": "code",
   "execution_count": 3,
   "metadata": {},
   "outputs": [
    {
     "name": "stdout",
     "output_type": "stream",
     "text": [
      "d:\\learnings\\python\\6-fileHandling\n",
      "D:\\learnings\\assignment_solution\n",
      "['assignment_question.ipynb', 'assignment_solution.ipynb']\n"
     ]
    }
   ],
   "source": [
    "#commenly used os methods\n",
    "import os\n",
    "print(os.getcwd())\n",
    "\n",
    "#navigate to another path\n",
    "os.chdir('D:/learnings/assignment_solution')\n",
    "print(os.getcwd())\n",
    "print(os.listdir())\n",
    "\n",
    "\n",
    "#mkdir -- creates a single directory onelvel\n",
    "#mkdirs --- creates directory in multiple levels\n",
    "os.mkdir(r'C:/Users/santhosh.maredubaku/Desktop/git_learn/newFolder')\n",
    "\n",
    "#remove the files/directories\n",
    "os.rmdir(r'C:/Users/santhosh.maredubaku/Desktop/git_learn/newFolder')\n",
    "\n",
    "#rename a folder or file\n",
    "os.rename('file2.txt','newFile2.txt')\n",
    "\n",
    "#To get all information regarding the file/folder\n",
    "os.stat(r'C:/Users/santhosh.maredubaku/Desktop/git_learn/newFolder')\n",
    "\n",
    "\n",
    "\n",
    "\n"
   ]
  },
  {
   "cell_type": "code",
   "execution_count": null,
   "metadata": {},
   "outputs": [],
   "source": []
  }
 ],
 "metadata": {
  "kernelspec": {
   "display_name": "base",
   "language": "python",
   "name": "python3"
  },
  "language_info": {
   "codemirror_mode": {
    "name": "ipython",
    "version": 3
   },
   "file_extension": ".py",
   "mimetype": "text/x-python",
   "name": "python",
   "nbconvert_exporter": "python",
   "pygments_lexer": "ipython3",
   "version": "3.12.4"
  }
 },
 "nbformat": 4,
 "nbformat_minor": 2
}
