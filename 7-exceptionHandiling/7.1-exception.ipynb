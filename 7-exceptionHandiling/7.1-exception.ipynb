{
 "cells": [
  {
   "cell_type": "code",
   "execution_count": null,
   "metadata": {},
   "outputs": [],
   "source": [
    "#Allows us to garcefully handle the errors and take corrective actions without stopping the execution of the program\n",
    "#try except and Finally\n",
    "\n",
    "\n",
    "#Exception vs error\n",
    "import os,sys\n",
    "\n",
    "try:\n",
    "    a=b\n",
    "except NameError as e:\n",
    "    print(e)\n",
    "    print(sys.exc_info())"
   ]
  },
  {
   "cell_type": "code",
   "execution_count": null,
   "metadata": {},
   "outputs": [],
   "source": [
    "\n",
    "try:\n",
    "    a=b\n",
    "except Exception as e:\n",
    "    print(e)\n",
    "    print(sys.exc_info())"
   ]
  },
  {
   "cell_type": "code",
   "execution_count": null,
   "metadata": {},
   "outputs": [],
   "source": [
    "try:\n",
    "    print(1/2)\n",
    "    a=b\n",
    "except ZeroDivisionError as ze:\n",
    "    print(ze)\n",
    "except Exception as ex:\n",
    "    print(ex)\n",
    "    print(sys.exc_info())"
   ]
  },
  {
   "cell_type": "code",
   "execution_count": null,
   "metadata": {},
   "outputs": [],
   "source": [
    "try:\n",
    "    num = int(input(\"Enter a number\"))\n",
    "    res = 1/num\n",
    "except ValueError as ve:\n",
    "    print(ve)\n",
    "    print(\"Value error\")\n",
    "except ZeroDivisionError as ze:\n",
    "    print(ze)\n",
    "except Exception as ee:\n",
    "    print(ee)\n",
    "    print(\"Found the root cause from base exception class\")"
   ]
  },
  {
   "cell_type": "code",
   "execution_count": 15,
   "metadata": {},
   "outputs": [
    {
     "name": "stdout",
     "output_type": "stream",
     "text": [
      "Entered into else block\n",
      "the result is 4.4375\n"
     ]
    }
   ],
   "source": [
    "#try except and else\n",
    "\n",
    "try:\n",
    "    n = int(input(\"Enter a number\"))\n",
    "    r = 142/n\n",
    "except ZeroDivisionError as ze:\n",
    "    print(ze)\n",
    "except ValueError as ve:\n",
    "    print(ve)\n",
    "else:\n",
    "    print(\"Entered into else block\")\n",
    "    print(f\"the result is {r}\")"
   ]
  },
  {
   "cell_type": "code",
   "execution_count": 17,
   "metadata": {},
   "outputs": [
    {
     "name": "stdout",
     "output_type": "stream",
     "text": [
      "Entered into else block\n",
      "the result is 3.1555555555555554\n",
      "Entered into final block\n",
      "This get executed for sure\n"
     ]
    }
   ],
   "source": [
    "#try except finally\n",
    "try:\n",
    "    n = int(input(\"Enter a number\"))\n",
    "    r = 142/n\n",
    "except ZeroDivisionError as ze:\n",
    "    print(ze)\n",
    "except ValueError as ve:\n",
    "    print(ve)\n",
    "else:\n",
    "    print(\"Entered into else block\")\n",
    "    print(f\"the result is {r}\")\n",
    "finally:\n",
    "    print(\"Entered into final block\")\n",
    "    print(\"This get executed for sure\")"
   ]
  },
  {
   "cell_type": "code",
   "execution_count": 25,
   "metadata": {},
   "outputs": [
    {
     "name": "stdout",
     "output_type": "stream",
     "text": [
      "\n",
      "name 'b' is not defined\n",
      "Closed the file\n"
     ]
    }
   ],
   "source": [
    "#One good example of try except else and final block is -- when we establish a connetion between db and if there is an exception or not finally we need to close the connection with the db\n",
    "#Also whenever the file is opened, we need to close that at the end\n",
    "\n",
    "try:\n",
    "    file = open(\"example.txt\",'r')\n",
    "    content = file.read()\n",
    "    print(content)\n",
    "    a=b\n",
    "except ZeroDivisionError as ze:\n",
    "    print(\"Zero Division error\\n\"+ze)\n",
    "except FileNotFoundError as fnf:\n",
    "    print(\"File not found\\n\"+fnf)\n",
    "except Exception as ee:\n",
    "    print(ee)\n",
    "finally:\n",
    "    if ('file' in locals()) or not file.closed():\n",
    "        file.close()\n",
    "        print(\"Closed the file\")"
   ]
  },
  {
   "cell_type": "code",
   "execution_count": null,
   "metadata": {},
   "outputs": [],
   "source": []
  }
 ],
 "metadata": {
  "kernelspec": {
   "display_name": "base",
   "language": "python",
   "name": "python3"
  },
  "language_info": {
   "codemirror_mode": {
    "name": "ipython",
    "version": 3
   },
   "file_extension": ".py",
   "mimetype": "text/x-python",
   "name": "python",
   "nbconvert_exporter": "python",
   "pygments_lexer": "ipython3",
   "version": "3.12.4"
  }
 },
 "nbformat": 4,
 "nbformat_minor": 2
}
