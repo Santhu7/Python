{
 "cells": [
  {
   "cell_type": "code",
   "execution_count": 2,
   "metadata": {},
   "outputs": [],
   "source": [
    "#Numpy is Fundamental Library for scientific computing in Python\n",
    "#It supports arrays and matrices operartions\n",
    "import numpy as np\n"
   ]
  },
  {
   "cell_type": "code",
   "execution_count": null,
   "metadata": {},
   "outputs": [],
   "source": [
    "#create arrays using numpy\n",
    "#1-D array\n",
    "\n",
    "arr1 = np.array([1,2,'hi'])\n",
    "print(\"Single Dimensional array with \"+str(len(arr1))+\" elements\")\n",
    "print(arr1)\n",
    "print(type(arr1))\n",
    "print(arr1.shape)"
   ]
  },
  {
   "cell_type": "code",
   "execution_count": null,
   "metadata": {},
   "outputs": [],
   "source": [
    "#even we can reshape array with reshape function\n",
    "#2D array\n",
    "arr1.reshape(1,3)  #1 Row, 3 columns\n",
    "print(\"arr1\",end=\" : \")\n",
    "print(arr1)\n",
    "print(arr1.shape)\n",
    "print()\n",
    "arr2 = arr1.reshape(1,3)\n",
    "print(\"arr2(2-D array)\",end=\" : \")\n",
    "print(arr2)\n",
    "print(arr2.shape)"
   ]
  },
  {
   "cell_type": "code",
   "execution_count": 3,
   "metadata": {},
   "outputs": [
    {
     "name": "stdout",
     "output_type": "stream",
     "text": [
      "[[1 3 4 4 2]\n",
      " [2 4 2 2 1]]\n",
      "(2, 5)\n"
     ]
    }
   ],
   "source": [
    "#2d array\n",
    "arr3 = np.array([[1,3,4,4,2],[2,4,2,2,1]])\n",
    "print(arr3)\n",
    "print(arr3.shape)"
   ]
  },
  {
   "cell_type": "code",
   "execution_count": null,
   "metadata": {},
   "outputs": [],
   "source": [
    "#reshaping 2 D array\n",
    "arr4 = arr3.reshape(5,2)\n",
    "print(arr4)\n",
    "print(arr4.shape)"
   ]
  },
  {
   "cell_type": "code",
   "execution_count": null,
   "metadata": {},
   "outputs": [],
   "source": [
    "#Array creation with inbuilt functions\n",
    "ar5 = np.arange(0,11,2)\n",
    "ar6 = ar5.reshape(2,3)\n",
    "print(\"ar5 : \",end=\" \")\n",
    "print(ar5)\n",
    "print(ar5.shape)\n",
    "print(\"ar5 : \",end=\" \")\n",
    "print(ar6)\n",
    "print(ar6.shape)"
   ]
  },
  {
   "cell_type": "code",
   "execution_count": null,
   "metadata": {},
   "outputs": [],
   "source": [
    "#ones\n",
    "ar7 = np.ones((3,5))\n",
    "print(ar7)"
   ]
  },
  {
   "cell_type": "code",
   "execution_count": null,
   "metadata": {},
   "outputs": [],
   "source": [
    "#identity Matrix\n",
    "ar8 = np.eye(3)\n",
    "print(ar8)"
   ]
  },
  {
   "cell_type": "code",
   "execution_count": null,
   "metadata": {},
   "outputs": [],
   "source": [
    "#Attributes of numpy array\n",
    "\n",
    "arr = np.array([[4,3,2],[1,2,3]])\n",
    "print(\"arr : \\n\", arr)\n",
    "print(\"Shape : \",arr.shape)\n",
    "print(\"Number of dimensions : \",arr.ndim)\n",
    "print(\"Size(Number of elements) : \",arr.size)\n",
    "print(\"Data type : \",arr.dtype) #depends on the array initiation\n",
    "print(\"Item Size (in bytes) : \",arr.itemsize) #depends on the array initiation and written data type"
   ]
  },
  {
   "cell_type": "code",
   "execution_count": 6,
   "metadata": {},
   "outputs": [
    {
     "name": "stdout",
     "output_type": "stream",
     "text": [
      "[1, 2, 3, 4, 2, 3, 4, 5]\n",
      "Addition :  [7 7 3 7]\n",
      "substraction :  [-3 -1 -1  1]\n",
      "multiplication :  [10 12  2 12]\n",
      "division :  [0.4        0.75       0.5        1.33333333]\n"
     ]
    }
   ],
   "source": [
    "a1 = [1,2,3,4]\n",
    "a2 = [2,3,4,5]\n",
    "\n",
    "#Addition of lists\n",
    "print(a1+a2)\n",
    "\n",
    "#numpy vectorized operations\n",
    "ar1 = np.array([2,3,1,4])\n",
    "ar2 = np.array([5,4,2,3])\n",
    "\n",
    "#Element wise addition\n",
    "print(\"Addition : \",ar1+ar2)\n",
    "\n",
    "\n",
    "#Element wise substraction\n",
    "print(\"substraction : \",ar1-ar2)\n",
    "\n",
    "\n",
    "#Element wise multiplication\n",
    "print(\"multiplication : \",ar1*ar2)\n",
    "\n",
    "\n",
    "#Element wise division\n",
    "print(\"division : \",ar1/ar2)"
   ]
  },
  {
   "cell_type": "code",
   "execution_count": 7,
   "metadata": {},
   "outputs": [
    {
     "name": "stdout",
     "output_type": "stream",
     "text": [
      "[1.         1.73205081 1.41421356 2.23606798 2.44948974]\n",
      "[  2.71828183  20.08553692   7.3890561  148.4131591  403.42879349]\n",
      "[ 0.84147098  0.14112001  0.90929743 -0.95892427 -0.2794155 ]\n",
      "[0.         1.09861229 0.69314718 1.60943791 1.79175947]\n"
     ]
    }
   ],
   "source": [
    "#Universal Functions \n",
    "\n",
    "arr32 = np.array([1,3,2,5,6])\n",
    "\n",
    "#Square root\n",
    "print(np.sqrt(arr32))\n",
    "\n",
    "#Exponent\n",
    "print(np.exp(arr32))\n",
    "\n",
    "#Sine\n",
    "print(np.sin(arr32))\n",
    "\n",
    "#log\n",
    "print(np.log(arr32))"
   ]
  },
  {
   "cell_type": "code",
   "execution_count": 9,
   "metadata": {},
   "outputs": [
    {
     "name": "stdout",
     "output_type": "stream",
     "text": [
      "Arr : \n",
      " [[1 2 3 4 2]\n",
      " [9 2 3 4 5]\n",
      " [3 4 5 2 5]]\n"
     ]
    }
   ],
   "source": [
    "#Array Slicling and indexing\n",
    "arr = np.array([[1,2,3,4,2],[9,2,3,4,5],[3,4,5,2,5]])\n",
    "\n",
    "print(\"Arr : \\n\",arr)\n"
   ]
  },
  {
   "cell_type": "code",
   "execution_count": 19,
   "metadata": {},
   "outputs": [
    {
     "name": "stdout",
     "output_type": "stream",
     "text": [
      "First row :  [1 2 3 4 2]\n",
      "First row First Column 1\n",
      "third row second column 4\n",
      "Elements in second row and third row until 4th column\n",
      "[[3 4]\n",
      " [5 2]]\n",
      "\n",
      "Elements in first row and second row last two column\n",
      "[[4 2]\n",
      " [4 5]]\n"
     ]
    }
   ],
   "source": [
    "#Accessing elements from the above array\n",
    "print(\"First row : \",arr[0])\n",
    "print(\"First row First Column\",arr[0][0])\n",
    "print(\"third row second column\",arr[2][1])\n",
    "print(\"Elements in second row and third row until 4th column\")\n",
    "print(arr[1:,2:4])\n",
    "print()\n",
    "print(\"Elements in first row and second row last two column\")\n",
    "print(arr[0:2,3:])"
   ]
  },
  {
   "cell_type": "code",
   "execution_count": 24,
   "metadata": {},
   "outputs": [
    {
     "name": "stdout",
     "output_type": "stream",
     "text": [
      "[[   1 2190    3    4    2]\n",
      " [   9    2    3    4    5]\n",
      " [   3    4    5    2    5]]\n"
     ]
    }
   ],
   "source": [
    "#Modifying array elements\n",
    "arr[0][1] = 2190\n",
    "print(arr)"
   ]
  },
  {
   "cell_type": "code",
   "execution_count": 27,
   "metadata": {},
   "outputs": [
    {
     "name": "stdout",
     "output_type": "stream",
     "text": [
      "[[   1 2190    3    4    2]\n",
      " [   9    2 8931 8931 8931]\n",
      " [   3    4    5    2    5]]\n"
     ]
    }
   ],
   "source": [
    "arr[1:2,2:] = 8931\n",
    "print(arr)"
   ]
  },
  {
   "cell_type": "code",
   "execution_count": 30,
   "metadata": {},
   "outputs": [
    {
     "name": "stdout",
     "output_type": "stream",
     "text": [
      "4.181818181818182\n",
      "4.0\n",
      "2.6566616720368104\n",
      "7.0578512396694215\n",
      "Normalized Data :  [-1.19767534 -0.82126309 -0.44485084 -0.06843859 -0.82126309 -1.19767534\n",
      " -0.06843859  1.06079816  1.43721041  0.30797366  1.81362266]\n"
     ]
    }
   ],
   "source": [
    "#stasticial concept\n",
    "\n",
    "#Normalization \n",
    "#We need to change the data such that, mean is zero and standard deviation as 1\n",
    "\n",
    "data = np.array([1,2,3,4,2,1,4,7,8,5,9])\n",
    "\n",
    "mean_ = np.mean(data)\n",
    "print(mean_)\n",
    "\n",
    "median_ = np.median(data)\n",
    "print(median_)\n",
    "\n",
    "stdDvtn = np.std(data)\n",
    "print(stdDvtn)\n",
    "\n",
    "variance_ = np.var(data)\n",
    "print(variance_)\n",
    "\n",
    "\n",
    "#NOrmalization\n",
    "normalized_Data = (data-mean_)/stdDvtn\n",
    "print(\"Normalized Data : \",normalized_Data)"
   ]
  },
  {
   "cell_type": "code",
   "execution_count": 40,
   "metadata": {},
   "outputs": [
    {
     "name": "stdout",
     "output_type": "stream",
     "text": [
      "[ True False False False False  True  True  True  True False  True]\n",
      "[10  6  7  9 10 23]\n"
     ]
    }
   ],
   "source": [
    "#Logical Operations\n",
    "data1 = np.array([10,2,3,4,5,6,7,9,10,2,23])\n",
    "print(data1>5)\n",
    "print(data1[data1>5])"
   ]
  },
  {
   "cell_type": "code",
   "execution_count": 41,
   "metadata": {},
   "outputs": [
    {
     "data": {
      "text/plain": [
       "29023"
      ]
     },
     "execution_count": 41,
     "metadata": {},
     "output_type": "execute_result"
    }
   ],
   "source": []
  }
 ],
 "metadata": {
  "kernelspec": {
   "display_name": "base",
   "language": "python",
   "name": "python3"
  },
  "language_info": {
   "codemirror_mode": {
    "name": "ipython",
    "version": 3
   },
   "file_extension": ".py",
   "mimetype": "text/x-python",
   "name": "python",
   "nbconvert_exporter": "python",
   "pygments_lexer": "ipython3",
   "version": "3.12.4"
  }
 },
 "nbformat": 4,
 "nbformat_minor": 2
}
