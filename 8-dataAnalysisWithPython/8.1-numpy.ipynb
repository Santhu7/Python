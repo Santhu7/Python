{
 "cells": [
  {
   "cell_type": "code",
   "execution_count": 1,
   "metadata": {},
   "outputs": [],
   "source": [
    "#Numpy is Fundamental Library for scientific computing in Python\n",
    "#It supports arrays and matrices operartions\n",
    "import numpy as np\n"
   ]
  },
  {
   "cell_type": "code",
   "execution_count": null,
   "metadata": {},
   "outputs": [],
   "source": [
    "#create arrays using numpy\n",
    "#1-D array\n",
    "\n",
    "arr1 = np.array([1,2,'hi'])\n",
    "print(\"Single Dimensional array with \"+str(len(arr1))+\" elements\")\n",
    "print(arr1)\n",
    "print(type(arr1))\n",
    "print(arr1.shape)"
   ]
  },
  {
   "cell_type": "code",
   "execution_count": null,
   "metadata": {},
   "outputs": [],
   "source": [
    "#even we can reshape array with reshape function\n",
    "#2D array\n",
    "arr1.reshape(1,3)  #1 Row, 3 columns\n",
    "print(\"arr1\",end=\" : \")\n",
    "print(arr1)\n",
    "print(arr1.shape)\n",
    "print()\n",
    "arr2 = arr1.reshape(1,3)\n",
    "print(\"arr2(2-D array)\",end=\" : \")\n",
    "print(arr2)\n",
    "print(arr2.shape)"
   ]
  },
  {
   "cell_type": "code",
   "execution_count": null,
   "metadata": {},
   "outputs": [],
   "source": [
    "#2d array\n",
    "arr3 = np.array([[1,3,4,4,2],[2,4,2,2,1]])\n",
    "print(arr3)\n",
    "print(arr3.shape)"
   ]
  },
  {
   "cell_type": "code",
   "execution_count": null,
   "metadata": {},
   "outputs": [],
   "source": [
    "#reshaping 2 D array\n",
    "arr4 = arr3.reshape(5,2)\n",
    "print(arr4)\n",
    "print(arr4.shape)"
   ]
  },
  {
   "cell_type": "code",
   "execution_count": null,
   "metadata": {},
   "outputs": [],
   "source": [
    "#Array creation with inbuilt functions\n",
    "ar5 = np.arange(0,11,2)\n",
    "ar6 = ar5.reshape(2,3)\n",
    "print(\"ar5 : \",end=\" \")\n",
    "print(ar5)\n",
    "print(ar5.shape)\n",
    "print(\"ar5 : \",end=\" \")\n",
    "print(ar6)\n",
    "print(ar6.shape)"
   ]
  },
  {
   "cell_type": "code",
   "execution_count": null,
   "metadata": {},
   "outputs": [],
   "source": [
    "#ones\n",
    "ar7 = np.ones((3,5))\n",
    "print(ar7)"
   ]
  },
  {
   "cell_type": "code",
   "execution_count": null,
   "metadata": {},
   "outputs": [],
   "source": [
    "#identity Matrix\n",
    "ar8 = np.eye(3)\n",
    "print(ar8)"
   ]
  },
  {
   "cell_type": "code",
   "execution_count": null,
   "metadata": {},
   "outputs": [],
   "source": [
    "#Attributes of numpy array\n",
    "\n",
    "arr = np.array([[4,3,2],[1,2,3]])\n",
    "print(\"arr : \\n\", arr)\n",
    "print(\"Shape : \",arr.shape)\n",
    "print(\"Number of dimensions : \",arr.ndim)\n",
    "print(\"Size(Number of elements) : \",arr.size)\n",
    "print(\"Data type : \",arr.dtype)\n",
    "print(\"Item Size (in bytes) : \",arr.itemsize)"
   ]
  },
  {
   "cell_type": "code",
   "execution_count": null,
   "metadata": {},
   "outputs": [],
   "source": [
    "#numpy vectorized operations\n"
   ]
  }
 ],
 "metadata": {
  "kernelspec": {
   "display_name": "base",
   "language": "python",
   "name": "python3"
  },
  "language_info": {
   "codemirror_mode": {
    "name": "ipython",
    "version": 3
   },
   "file_extension": ".py",
   "mimetype": "text/x-python",
   "name": "python",
   "nbconvert_exporter": "python",
   "pygments_lexer": "ipython3",
   "version": "3.12.4"
  }
 },
 "nbformat": 4,
 "nbformat_minor": 2
}
